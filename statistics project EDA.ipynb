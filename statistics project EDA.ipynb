{
 "cells": [
  {
   "cell_type": "code",
   "execution_count": 1,
   "id": "a8c1f9cf",
   "metadata": {},
   "outputs": [],
   "source": [
    "import pandas as pd\n",
    "import numpy as np\n",
    "import seaborn as sns\n",
    "from matplotlib import pyplot as plt\n",
    "from scipy import stats\n",
    "import statsmodels.api as sm\n",
    "from skimpy import skim"
   ]
  },
  {
   "cell_type": "code",
   "execution_count": 2,
   "id": "129f2685",
   "metadata": {},
   "outputs": [
    {
     "data": {
      "text/html": [
       "<div>\n",
       "<style scoped>\n",
       "    .dataframe tbody tr th:only-of-type {\n",
       "        vertical-align: middle;\n",
       "    }\n",
       "\n",
       "    .dataframe tbody tr th {\n",
       "        vertical-align: top;\n",
       "    }\n",
       "\n",
       "    .dataframe thead th {\n",
       "        text-align: right;\n",
       "    }\n",
       "</style>\n",
       "<table border=\"1\" class=\"dataframe\">\n",
       "  <thead>\n",
       "    <tr style=\"text-align: right;\">\n",
       "      <th></th>\n",
       "      <th>Unnamed: 0</th>\n",
       "      <th>customerid</th>\n",
       "      <th>age</th>\n",
       "      <th>salary</th>\n",
       "      <th>balance</th>\n",
       "      <th>marital</th>\n",
       "      <th>targeted</th>\n",
       "      <th>default</th>\n",
       "      <th>housing</th>\n",
       "      <th>loan</th>\n",
       "      <th>...</th>\n",
       "      <th>duration</th>\n",
       "      <th>campaign</th>\n",
       "      <th>pdays</th>\n",
       "      <th>previous</th>\n",
       "      <th>poutcome</th>\n",
       "      <th>response</th>\n",
       "      <th>job</th>\n",
       "      <th>education</th>\n",
       "      <th>months</th>\n",
       "      <th>years</th>\n",
       "    </tr>\n",
       "  </thead>\n",
       "  <tbody>\n",
       "    <tr>\n",
       "      <th>0</th>\n",
       "      <td>0</td>\n",
       "      <td>1</td>\n",
       "      <td>58.0</td>\n",
       "      <td>100000.0</td>\n",
       "      <td>2143</td>\n",
       "      <td>married</td>\n",
       "      <td>yes</td>\n",
       "      <td>no</td>\n",
       "      <td>yes</td>\n",
       "      <td>no</td>\n",
       "      <td>...</td>\n",
       "      <td>4.35</td>\n",
       "      <td>1</td>\n",
       "      <td>-1</td>\n",
       "      <td>0</td>\n",
       "      <td>unknown</td>\n",
       "      <td>no</td>\n",
       "      <td>management</td>\n",
       "      <td>tertiary</td>\n",
       "      <td>may</td>\n",
       "      <td>2017.0</td>\n",
       "    </tr>\n",
       "    <tr>\n",
       "      <th>1</th>\n",
       "      <td>1</td>\n",
       "      <td>2</td>\n",
       "      <td>44.0</td>\n",
       "      <td>60000.0</td>\n",
       "      <td>29</td>\n",
       "      <td>single</td>\n",
       "      <td>yes</td>\n",
       "      <td>no</td>\n",
       "      <td>yes</td>\n",
       "      <td>no</td>\n",
       "      <td>...</td>\n",
       "      <td>2.52</td>\n",
       "      <td>1</td>\n",
       "      <td>-1</td>\n",
       "      <td>0</td>\n",
       "      <td>unknown</td>\n",
       "      <td>no</td>\n",
       "      <td>technician</td>\n",
       "      <td>secondary</td>\n",
       "      <td>may</td>\n",
       "      <td>2017.0</td>\n",
       "    </tr>\n",
       "    <tr>\n",
       "      <th>2</th>\n",
       "      <td>2</td>\n",
       "      <td>3</td>\n",
       "      <td>33.0</td>\n",
       "      <td>120000.0</td>\n",
       "      <td>2</td>\n",
       "      <td>married</td>\n",
       "      <td>yes</td>\n",
       "      <td>no</td>\n",
       "      <td>yes</td>\n",
       "      <td>yes</td>\n",
       "      <td>...</td>\n",
       "      <td>1.27</td>\n",
       "      <td>1</td>\n",
       "      <td>-1</td>\n",
       "      <td>0</td>\n",
       "      <td>unknown</td>\n",
       "      <td>no</td>\n",
       "      <td>entrepreneur</td>\n",
       "      <td>secondary</td>\n",
       "      <td>may</td>\n",
       "      <td>2017.0</td>\n",
       "    </tr>\n",
       "    <tr>\n",
       "      <th>3</th>\n",
       "      <td>3</td>\n",
       "      <td>4</td>\n",
       "      <td>47.0</td>\n",
       "      <td>20000.0</td>\n",
       "      <td>1506</td>\n",
       "      <td>married</td>\n",
       "      <td>no</td>\n",
       "      <td>no</td>\n",
       "      <td>yes</td>\n",
       "      <td>no</td>\n",
       "      <td>...</td>\n",
       "      <td>1.53</td>\n",
       "      <td>1</td>\n",
       "      <td>-1</td>\n",
       "      <td>0</td>\n",
       "      <td>unknown</td>\n",
       "      <td>no</td>\n",
       "      <td>blue-collar</td>\n",
       "      <td>unknown</td>\n",
       "      <td>may</td>\n",
       "      <td>2017.0</td>\n",
       "    </tr>\n",
       "    <tr>\n",
       "      <th>4</th>\n",
       "      <td>4</td>\n",
       "      <td>5</td>\n",
       "      <td>33.0</td>\n",
       "      <td>0.0</td>\n",
       "      <td>1</td>\n",
       "      <td>single</td>\n",
       "      <td>no</td>\n",
       "      <td>no</td>\n",
       "      <td>no</td>\n",
       "      <td>no</td>\n",
       "      <td>...</td>\n",
       "      <td>3.30</td>\n",
       "      <td>1</td>\n",
       "      <td>-1</td>\n",
       "      <td>0</td>\n",
       "      <td>unknown</td>\n",
       "      <td>no</td>\n",
       "      <td>unknown</td>\n",
       "      <td>unknown</td>\n",
       "      <td>may</td>\n",
       "      <td>2017.0</td>\n",
       "    </tr>\n",
       "    <tr>\n",
       "      <th>...</th>\n",
       "      <td>...</td>\n",
       "      <td>...</td>\n",
       "      <td>...</td>\n",
       "      <td>...</td>\n",
       "      <td>...</td>\n",
       "      <td>...</td>\n",
       "      <td>...</td>\n",
       "      <td>...</td>\n",
       "      <td>...</td>\n",
       "      <td>...</td>\n",
       "      <td>...</td>\n",
       "      <td>...</td>\n",
       "      <td>...</td>\n",
       "      <td>...</td>\n",
       "      <td>...</td>\n",
       "      <td>...</td>\n",
       "      <td>...</td>\n",
       "      <td>...</td>\n",
       "      <td>...</td>\n",
       "      <td>...</td>\n",
       "      <td>...</td>\n",
       "    </tr>\n",
       "    <tr>\n",
       "      <th>45206</th>\n",
       "      <td>45206</td>\n",
       "      <td>45207</td>\n",
       "      <td>51.0</td>\n",
       "      <td>60000.0</td>\n",
       "      <td>825</td>\n",
       "      <td>married</td>\n",
       "      <td>yes</td>\n",
       "      <td>no</td>\n",
       "      <td>no</td>\n",
       "      <td>no</td>\n",
       "      <td>...</td>\n",
       "      <td>16.28</td>\n",
       "      <td>3</td>\n",
       "      <td>-1</td>\n",
       "      <td>0</td>\n",
       "      <td>unknown</td>\n",
       "      <td>yes</td>\n",
       "      <td>technician</td>\n",
       "      <td>tertiary</td>\n",
       "      <td>nov</td>\n",
       "      <td>2017.0</td>\n",
       "    </tr>\n",
       "    <tr>\n",
       "      <th>45207</th>\n",
       "      <td>45207</td>\n",
       "      <td>45208</td>\n",
       "      <td>71.0</td>\n",
       "      <td>55000.0</td>\n",
       "      <td>1729</td>\n",
       "      <td>divorced</td>\n",
       "      <td>yes</td>\n",
       "      <td>no</td>\n",
       "      <td>no</td>\n",
       "      <td>no</td>\n",
       "      <td>...</td>\n",
       "      <td>7.60</td>\n",
       "      <td>2</td>\n",
       "      <td>-1</td>\n",
       "      <td>0</td>\n",
       "      <td>unknown</td>\n",
       "      <td>yes</td>\n",
       "      <td>retired</td>\n",
       "      <td>primary</td>\n",
       "      <td>nov</td>\n",
       "      <td>2017.0</td>\n",
       "    </tr>\n",
       "    <tr>\n",
       "      <th>45208</th>\n",
       "      <td>45208</td>\n",
       "      <td>45209</td>\n",
       "      <td>72.0</td>\n",
       "      <td>55000.0</td>\n",
       "      <td>5715</td>\n",
       "      <td>married</td>\n",
       "      <td>yes</td>\n",
       "      <td>no</td>\n",
       "      <td>no</td>\n",
       "      <td>no</td>\n",
       "      <td>...</td>\n",
       "      <td>18.78</td>\n",
       "      <td>5</td>\n",
       "      <td>184</td>\n",
       "      <td>3</td>\n",
       "      <td>success</td>\n",
       "      <td>yes</td>\n",
       "      <td>retired</td>\n",
       "      <td>secondary</td>\n",
       "      <td>nov</td>\n",
       "      <td>2017.0</td>\n",
       "    </tr>\n",
       "    <tr>\n",
       "      <th>45209</th>\n",
       "      <td>45209</td>\n",
       "      <td>45210</td>\n",
       "      <td>57.0</td>\n",
       "      <td>20000.0</td>\n",
       "      <td>668</td>\n",
       "      <td>married</td>\n",
       "      <td>yes</td>\n",
       "      <td>no</td>\n",
       "      <td>no</td>\n",
       "      <td>no</td>\n",
       "      <td>...</td>\n",
       "      <td>8.47</td>\n",
       "      <td>4</td>\n",
       "      <td>-1</td>\n",
       "      <td>0</td>\n",
       "      <td>unknown</td>\n",
       "      <td>no</td>\n",
       "      <td>blue-collar</td>\n",
       "      <td>secondary</td>\n",
       "      <td>nov</td>\n",
       "      <td>2017.0</td>\n",
       "    </tr>\n",
       "    <tr>\n",
       "      <th>45210</th>\n",
       "      <td>45210</td>\n",
       "      <td>45211</td>\n",
       "      <td>37.0</td>\n",
       "      <td>120000.0</td>\n",
       "      <td>2971</td>\n",
       "      <td>married</td>\n",
       "      <td>yes</td>\n",
       "      <td>no</td>\n",
       "      <td>no</td>\n",
       "      <td>no</td>\n",
       "      <td>...</td>\n",
       "      <td>6.02</td>\n",
       "      <td>2</td>\n",
       "      <td>188</td>\n",
       "      <td>11</td>\n",
       "      <td>other</td>\n",
       "      <td>no</td>\n",
       "      <td>entrepreneur</td>\n",
       "      <td>secondary</td>\n",
       "      <td>nov</td>\n",
       "      <td>2017.0</td>\n",
       "    </tr>\n",
       "  </tbody>\n",
       "</table>\n",
       "<p>45211 rows × 23 columns</p>\n",
       "</div>"
      ],
      "text/plain": [
       "       Unnamed: 0  customerid   age    salary  balance   marital targeted  \\\n",
       "0               0           1  58.0  100000.0     2143   married      yes   \n",
       "1               1           2  44.0   60000.0       29    single      yes   \n",
       "2               2           3  33.0  120000.0        2   married      yes   \n",
       "3               3           4  47.0   20000.0     1506   married       no   \n",
       "4               4           5  33.0       0.0        1    single       no   \n",
       "...           ...         ...   ...       ...      ...       ...      ...   \n",
       "45206       45206       45207  51.0   60000.0      825   married      yes   \n",
       "45207       45207       45208  71.0   55000.0     1729  divorced      yes   \n",
       "45208       45208       45209  72.0   55000.0     5715   married      yes   \n",
       "45209       45209       45210  57.0   20000.0      668   married      yes   \n",
       "45210       45210       45211  37.0  120000.0     2971   married      yes   \n",
       "\n",
       "      default housing loan  ... duration  campaign pdays  previous  poutcome  \\\n",
       "0          no     yes   no  ...     4.35         1    -1         0   unknown   \n",
       "1          no     yes   no  ...     2.52         1    -1         0   unknown   \n",
       "2          no     yes  yes  ...     1.27         1    -1         0   unknown   \n",
       "3          no     yes   no  ...     1.53         1    -1         0   unknown   \n",
       "4          no      no   no  ...     3.30         1    -1         0   unknown   \n",
       "...       ...     ...  ...  ...      ...       ...   ...       ...       ...   \n",
       "45206      no      no   no  ...    16.28         3    -1         0   unknown   \n",
       "45207      no      no   no  ...     7.60         2    -1         0   unknown   \n",
       "45208      no      no   no  ...    18.78         5   184         3   success   \n",
       "45209      no      no   no  ...     8.47         4    -1         0   unknown   \n",
       "45210      no      no   no  ...     6.02         2   188        11     other   \n",
       "\n",
       "       response           job  education months   years  \n",
       "0            no    management   tertiary    may  2017.0  \n",
       "1            no    technician  secondary    may  2017.0  \n",
       "2            no  entrepreneur  secondary    may  2017.0  \n",
       "3            no   blue-collar    unknown    may  2017.0  \n",
       "4            no       unknown    unknown    may  2017.0  \n",
       "...         ...           ...        ...    ...     ...  \n",
       "45206       yes    technician   tertiary    nov  2017.0  \n",
       "45207       yes       retired    primary    nov  2017.0  \n",
       "45208       yes       retired  secondary    nov  2017.0  \n",
       "45209        no   blue-collar  secondary    nov  2017.0  \n",
       "45210        no  entrepreneur  secondary    nov  2017.0  \n",
       "\n",
       "[45211 rows x 23 columns]"
      ]
     },
     "execution_count": 2,
     "metadata": {},
     "output_type": "execute_result"
    }
   ],
   "source": [
    "loan=pd.read_csv(r\"C:\\Users\\91779\\stats_project.csv\")\n",
    "loan"
   ]
  },
  {
   "cell_type": "code",
   "execution_count": 3,
   "id": "58e4ff6f",
   "metadata": {},
   "outputs": [],
   "source": [
    "loan.drop((\"Unnamed: 0\"),axis=True,inplace=True)"
   ]
  },
  {
   "cell_type": "markdown",
   "id": "b63cd0ad",
   "metadata": {},
   "source": [
    "    #Step - 1 - Introduction -> Give a detailed data description and objectiv\n",
    "        the data belong to the year of 2017\n",
    "        The data is related to direct marketing campaigns of a Portuguese banking institution. The\n",
    "        marketing campaigns were based on phone calls. Often, more than one contact to the same client\n",
    "        was required, in order to assess if the product (bank term deposit) would be ('yes') or not ('no')\n",
    "        subscribed.\n",
    "\n"
   ]
  },
  {
   "cell_type": "code",
   "execution_count": 4,
   "id": "33780f3d",
   "metadata": {},
   "outputs": [
    {
     "data": {
      "text/html": [
       "<div>\n",
       "<style scoped>\n",
       "    .dataframe tbody tr th:only-of-type {\n",
       "        vertical-align: middle;\n",
       "    }\n",
       "\n",
       "    .dataframe tbody tr th {\n",
       "        vertical-align: top;\n",
       "    }\n",
       "\n",
       "    .dataframe thead th {\n",
       "        text-align: right;\n",
       "    }\n",
       "</style>\n",
       "<table border=\"1\" class=\"dataframe\">\n",
       "  <thead>\n",
       "    <tr style=\"text-align: right;\">\n",
       "      <th></th>\n",
       "      <th>customerid</th>\n",
       "      <th>age</th>\n",
       "      <th>salary</th>\n",
       "      <th>balance</th>\n",
       "      <th>marital</th>\n",
       "      <th>targeted</th>\n",
       "      <th>default</th>\n",
       "      <th>housing</th>\n",
       "      <th>loan</th>\n",
       "      <th>contact</th>\n",
       "      <th>...</th>\n",
       "      <th>duration</th>\n",
       "      <th>campaign</th>\n",
       "      <th>pdays</th>\n",
       "      <th>previous</th>\n",
       "      <th>poutcome</th>\n",
       "      <th>response</th>\n",
       "      <th>job</th>\n",
       "      <th>education</th>\n",
       "      <th>months</th>\n",
       "      <th>years</th>\n",
       "    </tr>\n",
       "  </thead>\n",
       "  <tbody>\n",
       "    <tr>\n",
       "      <th>0</th>\n",
       "      <td>1</td>\n",
       "      <td>58.0</td>\n",
       "      <td>100000.0</td>\n",
       "      <td>2143</td>\n",
       "      <td>married</td>\n",
       "      <td>yes</td>\n",
       "      <td>no</td>\n",
       "      <td>yes</td>\n",
       "      <td>no</td>\n",
       "      <td>unknown</td>\n",
       "      <td>...</td>\n",
       "      <td>4.35</td>\n",
       "      <td>1</td>\n",
       "      <td>-1</td>\n",
       "      <td>0</td>\n",
       "      <td>unknown</td>\n",
       "      <td>no</td>\n",
       "      <td>management</td>\n",
       "      <td>tertiary</td>\n",
       "      <td>may</td>\n",
       "      <td>2017.0</td>\n",
       "    </tr>\n",
       "    <tr>\n",
       "      <th>1</th>\n",
       "      <td>2</td>\n",
       "      <td>44.0</td>\n",
       "      <td>60000.0</td>\n",
       "      <td>29</td>\n",
       "      <td>single</td>\n",
       "      <td>yes</td>\n",
       "      <td>no</td>\n",
       "      <td>yes</td>\n",
       "      <td>no</td>\n",
       "      <td>unknown</td>\n",
       "      <td>...</td>\n",
       "      <td>2.52</td>\n",
       "      <td>1</td>\n",
       "      <td>-1</td>\n",
       "      <td>0</td>\n",
       "      <td>unknown</td>\n",
       "      <td>no</td>\n",
       "      <td>technician</td>\n",
       "      <td>secondary</td>\n",
       "      <td>may</td>\n",
       "      <td>2017.0</td>\n",
       "    </tr>\n",
       "    <tr>\n",
       "      <th>2</th>\n",
       "      <td>3</td>\n",
       "      <td>33.0</td>\n",
       "      <td>120000.0</td>\n",
       "      <td>2</td>\n",
       "      <td>married</td>\n",
       "      <td>yes</td>\n",
       "      <td>no</td>\n",
       "      <td>yes</td>\n",
       "      <td>yes</td>\n",
       "      <td>unknown</td>\n",
       "      <td>...</td>\n",
       "      <td>1.27</td>\n",
       "      <td>1</td>\n",
       "      <td>-1</td>\n",
       "      <td>0</td>\n",
       "      <td>unknown</td>\n",
       "      <td>no</td>\n",
       "      <td>entrepreneur</td>\n",
       "      <td>secondary</td>\n",
       "      <td>may</td>\n",
       "      <td>2017.0</td>\n",
       "    </tr>\n",
       "    <tr>\n",
       "      <th>3</th>\n",
       "      <td>4</td>\n",
       "      <td>47.0</td>\n",
       "      <td>20000.0</td>\n",
       "      <td>1506</td>\n",
       "      <td>married</td>\n",
       "      <td>no</td>\n",
       "      <td>no</td>\n",
       "      <td>yes</td>\n",
       "      <td>no</td>\n",
       "      <td>unknown</td>\n",
       "      <td>...</td>\n",
       "      <td>1.53</td>\n",
       "      <td>1</td>\n",
       "      <td>-1</td>\n",
       "      <td>0</td>\n",
       "      <td>unknown</td>\n",
       "      <td>no</td>\n",
       "      <td>blue-collar</td>\n",
       "      <td>unknown</td>\n",
       "      <td>may</td>\n",
       "      <td>2017.0</td>\n",
       "    </tr>\n",
       "    <tr>\n",
       "      <th>4</th>\n",
       "      <td>5</td>\n",
       "      <td>33.0</td>\n",
       "      <td>0.0</td>\n",
       "      <td>1</td>\n",
       "      <td>single</td>\n",
       "      <td>no</td>\n",
       "      <td>no</td>\n",
       "      <td>no</td>\n",
       "      <td>no</td>\n",
       "      <td>unknown</td>\n",
       "      <td>...</td>\n",
       "      <td>3.30</td>\n",
       "      <td>1</td>\n",
       "      <td>-1</td>\n",
       "      <td>0</td>\n",
       "      <td>unknown</td>\n",
       "      <td>no</td>\n",
       "      <td>unknown</td>\n",
       "      <td>unknown</td>\n",
       "      <td>may</td>\n",
       "      <td>2017.0</td>\n",
       "    </tr>\n",
       "  </tbody>\n",
       "</table>\n",
       "<p>5 rows × 22 columns</p>\n",
       "</div>"
      ],
      "text/plain": [
       "   customerid   age    salary  balance  marital targeted default housing loan  \\\n",
       "0           1  58.0  100000.0     2143  married      yes      no     yes   no   \n",
       "1           2  44.0   60000.0       29   single      yes      no     yes   no   \n",
       "2           3  33.0  120000.0        2  married      yes      no     yes  yes   \n",
       "3           4  47.0   20000.0     1506  married       no      no     yes   no   \n",
       "4           5  33.0       0.0        1   single       no      no      no   no   \n",
       "\n",
       "   contact  ...  duration campaign  pdays  previous  poutcome  response  \\\n",
       "0  unknown  ...      4.35        1     -1         0   unknown        no   \n",
       "1  unknown  ...      2.52        1     -1         0   unknown        no   \n",
       "2  unknown  ...      1.27        1     -1         0   unknown        no   \n",
       "3  unknown  ...      1.53        1     -1         0   unknown        no   \n",
       "4  unknown  ...      3.30        1     -1         0   unknown        no   \n",
       "\n",
       "            job  education months   years  \n",
       "0    management   tertiary    may  2017.0  \n",
       "1    technician  secondary    may  2017.0  \n",
       "2  entrepreneur  secondary    may  2017.0  \n",
       "3   blue-collar    unknown    may  2017.0  \n",
       "4       unknown    unknown    may  2017.0  \n",
       "\n",
       "[5 rows x 22 columns]"
      ]
     },
     "execution_count": 4,
     "metadata": {},
     "output_type": "execute_result"
    }
   ],
   "source": [
    "#Step - 2 - Import the data and display the head, shape and description of the data.\n",
    "#head\n",
    "loan.head()"
   ]
  },
  {
   "cell_type": "code",
   "execution_count": 5,
   "id": "41cef37d",
   "metadata": {},
   "outputs": [
    {
     "data": {
      "text/html": [
       "<pre style=\"white-space:pre;overflow-x:auto;line-height:normal;font-family:Menlo,'DejaVu Sans Mono',consolas,'Courier New',monospace\">╭──────────────────────────────────────────────── skimpy summary ─────────────────────────────────────────────────╮\n",
       "│ <span style=\"font-style: italic\">         Data Summary         </span> <span style=\"font-style: italic\">      Data Types       </span>                                                          │\n",
       "│ ┏━━━━━━━━━━━━━━━━━━━┳━━━━━━━━┓ ┏━━━━━━━━━━━━━┳━━━━━━━┓                                                          │\n",
       "│ ┃<span style=\"color: #008080; text-decoration-color: #008080; font-weight: bold\"> dataframe         </span>┃<span style=\"color: #008080; text-decoration-color: #008080; font-weight: bold\"> Values </span>┃ ┃<span style=\"color: #008080; text-decoration-color: #008080; font-weight: bold\"> Column Type </span>┃<span style=\"color: #008080; text-decoration-color: #008080; font-weight: bold\"> Count </span>┃                                                          │\n",
       "│ ┡━━━━━━━━━━━━━━━━━━━╇━━━━━━━━┩ ┡━━━━━━━━━━━━━╇━━━━━━━┩                                                          │\n",
       "│ │ Number of rows    │ 45211  │ │ string      │ 12    │                                                          │\n",
       "│ │ Number of columns │ 22     │ │ int32       │ 6     │                                                          │\n",
       "│ └───────────────────┴────────┘ │ float64     │ 4     │                                                          │\n",
       "│                                └─────────────┴───────┘                                                          │\n",
       "│ <span style=\"font-style: italic\">                                                    number                                                    </span>  │\n",
       "│ ┏━━━━━━━━━━━━━━━━━━┳━━━━━━┳━━━━━━━━┳━━━━━━━━━━┳━━━━━━━━━━┳━━━━━━━━━┳━━━━━━━━━┳━━━━━━━━━┳━━━━━━━━━━┳━━━━━━━━━━┓  │\n",
       "│ ┃<span style=\"font-weight: bold\"> column_name      </span>┃<span style=\"font-weight: bold\"> NA   </span>┃<span style=\"font-weight: bold\"> NA %   </span>┃<span style=\"font-weight: bold\"> mean     </span>┃<span style=\"font-weight: bold\"> sd       </span>┃<span style=\"font-weight: bold\"> p0      </span>┃<span style=\"font-weight: bold\"> p25     </span>┃<span style=\"font-weight: bold\"> p75     </span>┃<span style=\"font-weight: bold\"> p100     </span>┃<span style=\"font-weight: bold\"> hist     </span>┃  │\n",
       "│ ┡━━━━━━━━━━━━━━━━━━╇━━━━━━╇━━━━━━━━╇━━━━━━━━━━╇━━━━━━━━━━╇━━━━━━━━━╇━━━━━━━━━╇━━━━━━━━━╇━━━━━━━━━━╇━━━━━━━━━━┩  │\n",
       "│ │ <span style=\"color: #af87ff; text-decoration-color: #af87ff\">customerid      </span> │ <span style=\"color: #008080; text-decoration-color: #008080\">   0</span> │ <span style=\"color: #008080; text-decoration-color: #008080\">     0</span> │ <span style=\"color: #008080; text-decoration-color: #008080\">   23000</span> │ <span style=\"color: #008080; text-decoration-color: #008080\">   13000</span> │ <span style=\"color: #008080; text-decoration-color: #008080\">      1</span> │ <span style=\"color: #008080; text-decoration-color: #008080\">  11000</span> │ <span style=\"color: #008080; text-decoration-color: #008080\">  34000</span> │ <span style=\"color: #008080; text-decoration-color: #008080\">   45000</span> │ <span style=\"color: #008000; text-decoration-color: #008000\"> ██████ </span> │  │\n",
       "│ │ <span style=\"color: #af87ff; text-decoration-color: #af87ff\">age             </span> │ <span style=\"color: #008080; text-decoration-color: #008080\">   0</span> │ <span style=\"color: #008080; text-decoration-color: #008080\">     0</span> │ <span style=\"color: #008080; text-decoration-color: #008080\">      41</span> │ <span style=\"color: #008080; text-decoration-color: #008080\">      11</span> │ <span style=\"color: #008080; text-decoration-color: #008080\">     18</span> │ <span style=\"color: #008080; text-decoration-color: #008080\">     33</span> │ <span style=\"color: #008080; text-decoration-color: #008080\">     48</span> │ <span style=\"color: #008080; text-decoration-color: #008080\">      95</span> │ <span style=\"color: #008000; text-decoration-color: #008000\">  ▃█▅▁  </span> │  │\n",
       "│ │ <span style=\"color: #af87ff; text-decoration-color: #af87ff\">salary          </span> │ <span style=\"color: #008080; text-decoration-color: #008080\">   0</span> │ <span style=\"color: #008080; text-decoration-color: #008080\">     0</span> │ <span style=\"color: #008080; text-decoration-color: #008080\">   57000</span> │ <span style=\"color: #008080; text-decoration-color: #008080\">   32000</span> │ <span style=\"color: #008080; text-decoration-color: #008080\">      0</span> │ <span style=\"color: #008080; text-decoration-color: #008080\">  20000</span> │ <span style=\"color: #008080; text-decoration-color: #008080\">  70000</span> │ <span style=\"color: #008080; text-decoration-color: #008080\">  120000</span> │ <span style=\"color: #008000; text-decoration-color: #008000\"> ▂▆▄█ ▇ </span> │  │\n",
       "│ │ <span style=\"color: #af87ff; text-decoration-color: #af87ff\">balance         </span> │ <span style=\"color: #008080; text-decoration-color: #008080\">   0</span> │ <span style=\"color: #008080; text-decoration-color: #008080\">     0</span> │ <span style=\"color: #008080; text-decoration-color: #008080\">    1400</span> │ <span style=\"color: #008080; text-decoration-color: #008080\">    3000</span> │ <span style=\"color: #008080; text-decoration-color: #008080\">  -8000</span> │ <span style=\"color: #008080; text-decoration-color: #008080\">     72</span> │ <span style=\"color: #008080; text-decoration-color: #008080\">   1400</span> │ <span style=\"color: #008080; text-decoration-color: #008080\">  100000</span> │ <span style=\"color: #008000; text-decoration-color: #008000\">   █    </span> │  │\n",
       "│ │ <span style=\"color: #af87ff; text-decoration-color: #af87ff\">day             </span> │ <span style=\"color: #008080; text-decoration-color: #008080\">   0</span> │ <span style=\"color: #008080; text-decoration-color: #008080\">     0</span> │ <span style=\"color: #008080; text-decoration-color: #008080\">      16</span> │ <span style=\"color: #008080; text-decoration-color: #008080\">     8.3</span> │ <span style=\"color: #008080; text-decoration-color: #008080\">      1</span> │ <span style=\"color: #008080; text-decoration-color: #008080\">      8</span> │ <span style=\"color: #008080; text-decoration-color: #008080\">     21</span> │ <span style=\"color: #008080; text-decoration-color: #008080\">      31</span> │ <span style=\"color: #008000; text-decoration-color: #008000\"> ▅▆▆█▄▆ </span> │  │\n",
       "│ │ <span style=\"color: #af87ff; text-decoration-color: #af87ff\">duration        </span> │ <span style=\"color: #008080; text-decoration-color: #008080\">   0</span> │ <span style=\"color: #008080; text-decoration-color: #008080\">     0</span> │ <span style=\"color: #008080; text-decoration-color: #008080\">     4.3</span> │ <span style=\"color: #008080; text-decoration-color: #008080\">     4.3</span> │ <span style=\"color: #008080; text-decoration-color: #008080\">      0</span> │ <span style=\"color: #008080; text-decoration-color: #008080\">    1.7</span> │ <span style=\"color: #008080; text-decoration-color: #008080\">    5.3</span> │ <span style=\"color: #008080; text-decoration-color: #008080\">      82</span> │ <span style=\"color: #008000; text-decoration-color: #008000\">   █    </span> │  │\n",
       "│ │ <span style=\"color: #af87ff; text-decoration-color: #af87ff\">campaign        </span> │ <span style=\"color: #008080; text-decoration-color: #008080\">   0</span> │ <span style=\"color: #008080; text-decoration-color: #008080\">     0</span> │ <span style=\"color: #008080; text-decoration-color: #008080\">     2.8</span> │ <span style=\"color: #008080; text-decoration-color: #008080\">     3.1</span> │ <span style=\"color: #008080; text-decoration-color: #008080\">      1</span> │ <span style=\"color: #008080; text-decoration-color: #008080\">      1</span> │ <span style=\"color: #008080; text-decoration-color: #008080\">      3</span> │ <span style=\"color: #008080; text-decoration-color: #008080\">      63</span> │ <span style=\"color: #008000; text-decoration-color: #008000\">   █    </span> │  │\n",
       "│ │ <span style=\"color: #af87ff; text-decoration-color: #af87ff\">pdays           </span> │ <span style=\"color: #008080; text-decoration-color: #008080\">   0</span> │ <span style=\"color: #008080; text-decoration-color: #008080\">     0</span> │ <span style=\"color: #008080; text-decoration-color: #008080\">      40</span> │ <span style=\"color: #008080; text-decoration-color: #008080\">     100</span> │ <span style=\"color: #008080; text-decoration-color: #008080\">     -1</span> │ <span style=\"color: #008080; text-decoration-color: #008080\">     -1</span> │ <span style=\"color: #008080; text-decoration-color: #008080\">     -1</span> │ <span style=\"color: #008080; text-decoration-color: #008080\">     870</span> │ <span style=\"color: #008000; text-decoration-color: #008000\">  █▁▁   </span> │  │\n",
       "│ │ <span style=\"color: #af87ff; text-decoration-color: #af87ff\">previous        </span> │ <span style=\"color: #008080; text-decoration-color: #008080\">   0</span> │ <span style=\"color: #008080; text-decoration-color: #008080\">     0</span> │ <span style=\"color: #008080; text-decoration-color: #008080\">    0.58</span> │ <span style=\"color: #008080; text-decoration-color: #008080\">     2.3</span> │ <span style=\"color: #008080; text-decoration-color: #008080\">      0</span> │ <span style=\"color: #008080; text-decoration-color: #008080\">      0</span> │ <span style=\"color: #008080; text-decoration-color: #008080\">      0</span> │ <span style=\"color: #008080; text-decoration-color: #008080\">     280</span> │ <span style=\"color: #008000; text-decoration-color: #008000\">   █    </span> │  │\n",
       "│ │ <span style=\"color: #af87ff; text-decoration-color: #af87ff\">years           </span> │ <span style=\"color: #008080; text-decoration-color: #008080\">  50</span> │ <span style=\"color: #008080; text-decoration-color: #008080\">  0.11</span> │ <span style=\"color: #008080; text-decoration-color: #008080\">    2000</span> │ <span style=\"color: #008080; text-decoration-color: #008080\">       0</span> │ <span style=\"color: #008080; text-decoration-color: #008080\">   2000</span> │ <span style=\"color: #008080; text-decoration-color: #008080\">   2000</span> │ <span style=\"color: #008080; text-decoration-color: #008080\">   2000</span> │ <span style=\"color: #008080; text-decoration-color: #008080\">    2000</span> │ <span style=\"color: #008000; text-decoration-color: #008000\">     █  </span> │  │\n",
       "│ └──────────────────┴──────┴────────┴──────────┴──────────┴─────────┴─────────┴─────────┴──────────┴──────────┘  │\n",
       "│ <span style=\"font-style: italic\">                                                    string                                                    </span>  │\n",
       "│ ┏━━━━━━━━━━━━━━━━━━━━━━━━━━━┳━━━━━━━━━┳━━━━━━━━━━━━┳━━━━━━━━━━━━━━━━━━━━━━━━━━━━━━┳━━━━━━━━━━━━━━━━━━━━━━━━━━┓  │\n",
       "│ ┃<span style=\"font-weight: bold\"> column_name               </span>┃<span style=\"font-weight: bold\"> NA      </span>┃<span style=\"font-weight: bold\"> NA %       </span>┃<span style=\"font-weight: bold\"> words per row                </span>┃<span style=\"font-weight: bold\"> total words              </span>┃  │\n",
       "│ ┡━━━━━━━━━━━━━━━━━━━━━━━━━━━╇━━━━━━━━━╇━━━━━━━━━━━━╇━━━━━━━━━━━━━━━━━━━━━━━━━━━━━━╇━━━━━━━━━━━━━━━━━━━━━━━━━━┩  │\n",
       "│ │ <span style=\"color: #af87ff; text-decoration-color: #af87ff\">marital                  </span> │ <span style=\"color: #008080; text-decoration-color: #008080\">      0</span> │ <span style=\"color: #008080; text-decoration-color: #008080\">         0</span> │ <span style=\"color: #008080; text-decoration-color: #008080\">                           1</span> │ <span style=\"color: #008080; text-decoration-color: #008080\">                   45000</span> │  │\n",
       "│ │ <span style=\"color: #af87ff; text-decoration-color: #af87ff\">targeted                 </span> │ <span style=\"color: #008080; text-decoration-color: #008080\">      0</span> │ <span style=\"color: #008080; text-decoration-color: #008080\">         0</span> │ <span style=\"color: #008080; text-decoration-color: #008080\">                           1</span> │ <span style=\"color: #008080; text-decoration-color: #008080\">                   45000</span> │  │\n",
       "│ │ <span style=\"color: #af87ff; text-decoration-color: #af87ff\">default                  </span> │ <span style=\"color: #008080; text-decoration-color: #008080\">      0</span> │ <span style=\"color: #008080; text-decoration-color: #008080\">         0</span> │ <span style=\"color: #008080; text-decoration-color: #008080\">                           1</span> │ <span style=\"color: #008080; text-decoration-color: #008080\">                   45000</span> │  │\n",
       "│ │ <span style=\"color: #af87ff; text-decoration-color: #af87ff\">housing                  </span> │ <span style=\"color: #008080; text-decoration-color: #008080\">      0</span> │ <span style=\"color: #008080; text-decoration-color: #008080\">         0</span> │ <span style=\"color: #008080; text-decoration-color: #008080\">                           1</span> │ <span style=\"color: #008080; text-decoration-color: #008080\">                   45000</span> │  │\n",
       "│ │ <span style=\"color: #af87ff; text-decoration-color: #af87ff\">loan                     </span> │ <span style=\"color: #008080; text-decoration-color: #008080\">      0</span> │ <span style=\"color: #008080; text-decoration-color: #008080\">         0</span> │ <span style=\"color: #008080; text-decoration-color: #008080\">                           1</span> │ <span style=\"color: #008080; text-decoration-color: #008080\">                   45000</span> │  │\n",
       "│ │ <span style=\"color: #af87ff; text-decoration-color: #af87ff\">contact                  </span> │ <span style=\"color: #008080; text-decoration-color: #008080\">      0</span> │ <span style=\"color: #008080; text-decoration-color: #008080\">         0</span> │ <span style=\"color: #008080; text-decoration-color: #008080\">                           1</span> │ <span style=\"color: #008080; text-decoration-color: #008080\">                   45000</span> │  │\n",
       "│ │ <span style=\"color: #af87ff; text-decoration-color: #af87ff\">month                    </span> │ <span style=\"color: #008080; text-decoration-color: #008080\">     50</span> │ <span style=\"color: #008080; text-decoration-color: #008080\">      0.11</span> │ <span style=\"color: #008080; text-decoration-color: #008080\">                           1</span> │ <span style=\"color: #008080; text-decoration-color: #008080\">                   45000</span> │  │\n",
       "│ │ <span style=\"color: #af87ff; text-decoration-color: #af87ff\">poutcome                 </span> │ <span style=\"color: #008080; text-decoration-color: #008080\">      0</span> │ <span style=\"color: #008080; text-decoration-color: #008080\">         0</span> │ <span style=\"color: #008080; text-decoration-color: #008080\">                           1</span> │ <span style=\"color: #008080; text-decoration-color: #008080\">                   45000</span> │  │\n",
       "│ │ <span style=\"color: #af87ff; text-decoration-color: #af87ff\">response                 </span> │ <span style=\"color: #008080; text-decoration-color: #008080\">      0</span> │ <span style=\"color: #008080; text-decoration-color: #008080\">         0</span> │ <span style=\"color: #008080; text-decoration-color: #008080\">                           1</span> │ <span style=\"color: #008080; text-decoration-color: #008080\">                   45000</span> │  │\n",
       "│ │ <span style=\"color: #af87ff; text-decoration-color: #af87ff\">job                      </span> │ <span style=\"color: #008080; text-decoration-color: #008080\">      0</span> │ <span style=\"color: #008080; text-decoration-color: #008080\">         0</span> │ <span style=\"color: #008080; text-decoration-color: #008080\">                           1</span> │ <span style=\"color: #008080; text-decoration-color: #008080\">                   45000</span> │  │\n",
       "│ │ <span style=\"color: #af87ff; text-decoration-color: #af87ff\">education                </span> │ <span style=\"color: #008080; text-decoration-color: #008080\">      0</span> │ <span style=\"color: #008080; text-decoration-color: #008080\">         0</span> │ <span style=\"color: #008080; text-decoration-color: #008080\">                           1</span> │ <span style=\"color: #008080; text-decoration-color: #008080\">                   45000</span> │  │\n",
       "│ │ <span style=\"color: #af87ff; text-decoration-color: #af87ff\">months                   </span> │ <span style=\"color: #008080; text-decoration-color: #008080\">     50</span> │ <span style=\"color: #008080; text-decoration-color: #008080\">      0.11</span> │ <span style=\"color: #008080; text-decoration-color: #008080\">                           1</span> │ <span style=\"color: #008080; text-decoration-color: #008080\">                   45000</span> │  │\n",
       "│ └───────────────────────────┴─────────┴────────────┴──────────────────────────────┴──────────────────────────┘  │\n",
       "╰────────────────────────────────────────────────────── End ──────────────────────────────────────────────────────╯\n",
       "</pre>\n"
      ],
      "text/plain": [
       "╭──────────────────────────────────────────────── skimpy summary ─────────────────────────────────────────────────╮\n",
       "│ \u001b[3m         Data Summary         \u001b[0m \u001b[3m      Data Types       \u001b[0m                                                          │\n",
       "│ ┏━━━━━━━━━━━━━━━━━━━┳━━━━━━━━┓ ┏━━━━━━━━━━━━━┳━━━━━━━┓                                                          │\n",
       "│ ┃\u001b[1;36m \u001b[0m\u001b[1;36mdataframe        \u001b[0m\u001b[1;36m \u001b[0m┃\u001b[1;36m \u001b[0m\u001b[1;36mValues\u001b[0m\u001b[1;36m \u001b[0m┃ ┃\u001b[1;36m \u001b[0m\u001b[1;36mColumn Type\u001b[0m\u001b[1;36m \u001b[0m┃\u001b[1;36m \u001b[0m\u001b[1;36mCount\u001b[0m\u001b[1;36m \u001b[0m┃                                                          │\n",
       "│ ┡━━━━━━━━━━━━━━━━━━━╇━━━━━━━━┩ ┡━━━━━━━━━━━━━╇━━━━━━━┩                                                          │\n",
       "│ │ Number of rows    │ 45211  │ │ string      │ 12    │                                                          │\n",
       "│ │ Number of columns │ 22     │ │ int32       │ 6     │                                                          │\n",
       "│ └───────────────────┴────────┘ │ float64     │ 4     │                                                          │\n",
       "│                                └─────────────┴───────┘                                                          │\n",
       "│ \u001b[3m                                                    number                                                    \u001b[0m  │\n",
       "│ ┏━━━━━━━━━━━━━━━━━━┳━━━━━━┳━━━━━━━━┳━━━━━━━━━━┳━━━━━━━━━━┳━━━━━━━━━┳━━━━━━━━━┳━━━━━━━━━┳━━━━━━━━━━┳━━━━━━━━━━┓  │\n",
       "│ ┃\u001b[1m \u001b[0m\u001b[1mcolumn_name     \u001b[0m\u001b[1m \u001b[0m┃\u001b[1m \u001b[0m\u001b[1mNA  \u001b[0m\u001b[1m \u001b[0m┃\u001b[1m \u001b[0m\u001b[1mNA %  \u001b[0m\u001b[1m \u001b[0m┃\u001b[1m \u001b[0m\u001b[1mmean    \u001b[0m\u001b[1m \u001b[0m┃\u001b[1m \u001b[0m\u001b[1msd      \u001b[0m\u001b[1m \u001b[0m┃\u001b[1m \u001b[0m\u001b[1mp0     \u001b[0m\u001b[1m \u001b[0m┃\u001b[1m \u001b[0m\u001b[1mp25    \u001b[0m\u001b[1m \u001b[0m┃\u001b[1m \u001b[0m\u001b[1mp75    \u001b[0m\u001b[1m \u001b[0m┃\u001b[1m \u001b[0m\u001b[1mp100    \u001b[0m\u001b[1m \u001b[0m┃\u001b[1m \u001b[0m\u001b[1mhist    \u001b[0m\u001b[1m \u001b[0m┃  │\n",
       "│ ┡━━━━━━━━━━━━━━━━━━╇━━━━━━╇━━━━━━━━╇━━━━━━━━━━╇━━━━━━━━━━╇━━━━━━━━━╇━━━━━━━━━╇━━━━━━━━━╇━━━━━━━━━━╇━━━━━━━━━━┩  │\n",
       "│ │ \u001b[38;5;141mcustomerid      \u001b[0m │ \u001b[36m   0\u001b[0m │ \u001b[36m     0\u001b[0m │ \u001b[36m   23000\u001b[0m │ \u001b[36m   13000\u001b[0m │ \u001b[36m      1\u001b[0m │ \u001b[36m  11000\u001b[0m │ \u001b[36m  34000\u001b[0m │ \u001b[36m   45000\u001b[0m │ \u001b[32m ██████ \u001b[0m │  │\n",
       "│ │ \u001b[38;5;141mage             \u001b[0m │ \u001b[36m   0\u001b[0m │ \u001b[36m     0\u001b[0m │ \u001b[36m      41\u001b[0m │ \u001b[36m      11\u001b[0m │ \u001b[36m     18\u001b[0m │ \u001b[36m     33\u001b[0m │ \u001b[36m     48\u001b[0m │ \u001b[36m      95\u001b[0m │ \u001b[32m  ▃█▅▁  \u001b[0m │  │\n",
       "│ │ \u001b[38;5;141msalary          \u001b[0m │ \u001b[36m   0\u001b[0m │ \u001b[36m     0\u001b[0m │ \u001b[36m   57000\u001b[0m │ \u001b[36m   32000\u001b[0m │ \u001b[36m      0\u001b[0m │ \u001b[36m  20000\u001b[0m │ \u001b[36m  70000\u001b[0m │ \u001b[36m  120000\u001b[0m │ \u001b[32m ▂▆▄█ ▇ \u001b[0m │  │\n",
       "│ │ \u001b[38;5;141mbalance         \u001b[0m │ \u001b[36m   0\u001b[0m │ \u001b[36m     0\u001b[0m │ \u001b[36m    1400\u001b[0m │ \u001b[36m    3000\u001b[0m │ \u001b[36m  -8000\u001b[0m │ \u001b[36m     72\u001b[0m │ \u001b[36m   1400\u001b[0m │ \u001b[36m  100000\u001b[0m │ \u001b[32m   █    \u001b[0m │  │\n",
       "│ │ \u001b[38;5;141mday             \u001b[0m │ \u001b[36m   0\u001b[0m │ \u001b[36m     0\u001b[0m │ \u001b[36m      16\u001b[0m │ \u001b[36m     8.3\u001b[0m │ \u001b[36m      1\u001b[0m │ \u001b[36m      8\u001b[0m │ \u001b[36m     21\u001b[0m │ \u001b[36m      31\u001b[0m │ \u001b[32m ▅▆▆█▄▆ \u001b[0m │  │\n",
       "│ │ \u001b[38;5;141mduration        \u001b[0m │ \u001b[36m   0\u001b[0m │ \u001b[36m     0\u001b[0m │ \u001b[36m     4.3\u001b[0m │ \u001b[36m     4.3\u001b[0m │ \u001b[36m      0\u001b[0m │ \u001b[36m    1.7\u001b[0m │ \u001b[36m    5.3\u001b[0m │ \u001b[36m      82\u001b[0m │ \u001b[32m   █    \u001b[0m │  │\n",
       "│ │ \u001b[38;5;141mcampaign        \u001b[0m │ \u001b[36m   0\u001b[0m │ \u001b[36m     0\u001b[0m │ \u001b[36m     2.8\u001b[0m │ \u001b[36m     3.1\u001b[0m │ \u001b[36m      1\u001b[0m │ \u001b[36m      1\u001b[0m │ \u001b[36m      3\u001b[0m │ \u001b[36m      63\u001b[0m │ \u001b[32m   █    \u001b[0m │  │\n",
       "│ │ \u001b[38;5;141mpdays           \u001b[0m │ \u001b[36m   0\u001b[0m │ \u001b[36m     0\u001b[0m │ \u001b[36m      40\u001b[0m │ \u001b[36m     100\u001b[0m │ \u001b[36m     -1\u001b[0m │ \u001b[36m     -1\u001b[0m │ \u001b[36m     -1\u001b[0m │ \u001b[36m     870\u001b[0m │ \u001b[32m  █▁▁   \u001b[0m │  │\n",
       "│ │ \u001b[38;5;141mprevious        \u001b[0m │ \u001b[36m   0\u001b[0m │ \u001b[36m     0\u001b[0m │ \u001b[36m    0.58\u001b[0m │ \u001b[36m     2.3\u001b[0m │ \u001b[36m      0\u001b[0m │ \u001b[36m      0\u001b[0m │ \u001b[36m      0\u001b[0m │ \u001b[36m     280\u001b[0m │ \u001b[32m   █    \u001b[0m │  │\n",
       "│ │ \u001b[38;5;141myears           \u001b[0m │ \u001b[36m  50\u001b[0m │ \u001b[36m  0.11\u001b[0m │ \u001b[36m    2000\u001b[0m │ \u001b[36m       0\u001b[0m │ \u001b[36m   2000\u001b[0m │ \u001b[36m   2000\u001b[0m │ \u001b[36m   2000\u001b[0m │ \u001b[36m    2000\u001b[0m │ \u001b[32m     █  \u001b[0m │  │\n",
       "│ └──────────────────┴──────┴────────┴──────────┴──────────┴─────────┴─────────┴─────────┴──────────┴──────────┘  │\n",
       "│ \u001b[3m                                                    string                                                    \u001b[0m  │\n",
       "│ ┏━━━━━━━━━━━━━━━━━━━━━━━━━━━┳━━━━━━━━━┳━━━━━━━━━━━━┳━━━━━━━━━━━━━━━━━━━━━━━━━━━━━━┳━━━━━━━━━━━━━━━━━━━━━━━━━━┓  │\n",
       "│ ┃\u001b[1m \u001b[0m\u001b[1mcolumn_name              \u001b[0m\u001b[1m \u001b[0m┃\u001b[1m \u001b[0m\u001b[1mNA     \u001b[0m\u001b[1m \u001b[0m┃\u001b[1m \u001b[0m\u001b[1mNA %      \u001b[0m\u001b[1m \u001b[0m┃\u001b[1m \u001b[0m\u001b[1mwords per row               \u001b[0m\u001b[1m \u001b[0m┃\u001b[1m \u001b[0m\u001b[1mtotal words             \u001b[0m\u001b[1m \u001b[0m┃  │\n",
       "│ ┡━━━━━━━━━━━━━━━━━━━━━━━━━━━╇━━━━━━━━━╇━━━━━━━━━━━━╇━━━━━━━━━━━━━━━━━━━━━━━━━━━━━━╇━━━━━━━━━━━━━━━━━━━━━━━━━━┩  │\n",
       "│ │ \u001b[38;5;141mmarital                  \u001b[0m │ \u001b[36m      0\u001b[0m │ \u001b[36m         0\u001b[0m │ \u001b[36m                           1\u001b[0m │ \u001b[36m                   45000\u001b[0m │  │\n",
       "│ │ \u001b[38;5;141mtargeted                 \u001b[0m │ \u001b[36m      0\u001b[0m │ \u001b[36m         0\u001b[0m │ \u001b[36m                           1\u001b[0m │ \u001b[36m                   45000\u001b[0m │  │\n",
       "│ │ \u001b[38;5;141mdefault                  \u001b[0m │ \u001b[36m      0\u001b[0m │ \u001b[36m         0\u001b[0m │ \u001b[36m                           1\u001b[0m │ \u001b[36m                   45000\u001b[0m │  │\n",
       "│ │ \u001b[38;5;141mhousing                  \u001b[0m │ \u001b[36m      0\u001b[0m │ \u001b[36m         0\u001b[0m │ \u001b[36m                           1\u001b[0m │ \u001b[36m                   45000\u001b[0m │  │\n",
       "│ │ \u001b[38;5;141mloan                     \u001b[0m │ \u001b[36m      0\u001b[0m │ \u001b[36m         0\u001b[0m │ \u001b[36m                           1\u001b[0m │ \u001b[36m                   45000\u001b[0m │  │\n",
       "│ │ \u001b[38;5;141mcontact                  \u001b[0m │ \u001b[36m      0\u001b[0m │ \u001b[36m         0\u001b[0m │ \u001b[36m                           1\u001b[0m │ \u001b[36m                   45000\u001b[0m │  │\n",
       "│ │ \u001b[38;5;141mmonth                    \u001b[0m │ \u001b[36m     50\u001b[0m │ \u001b[36m      0.11\u001b[0m │ \u001b[36m                           1\u001b[0m │ \u001b[36m                   45000\u001b[0m │  │\n",
       "│ │ \u001b[38;5;141mpoutcome                 \u001b[0m │ \u001b[36m      0\u001b[0m │ \u001b[36m         0\u001b[0m │ \u001b[36m                           1\u001b[0m │ \u001b[36m                   45000\u001b[0m │  │\n",
       "│ │ \u001b[38;5;141mresponse                 \u001b[0m │ \u001b[36m      0\u001b[0m │ \u001b[36m         0\u001b[0m │ \u001b[36m                           1\u001b[0m │ \u001b[36m                   45000\u001b[0m │  │\n",
       "│ │ \u001b[38;5;141mjob                      \u001b[0m │ \u001b[36m      0\u001b[0m │ \u001b[36m         0\u001b[0m │ \u001b[36m                           1\u001b[0m │ \u001b[36m                   45000\u001b[0m │  │\n",
       "│ │ \u001b[38;5;141meducation                \u001b[0m │ \u001b[36m      0\u001b[0m │ \u001b[36m         0\u001b[0m │ \u001b[36m                           1\u001b[0m │ \u001b[36m                   45000\u001b[0m │  │\n",
       "│ │ \u001b[38;5;141mmonths                   \u001b[0m │ \u001b[36m     50\u001b[0m │ \u001b[36m      0.11\u001b[0m │ \u001b[36m                           1\u001b[0m │ \u001b[36m                   45000\u001b[0m │  │\n",
       "│ └───────────────────────────┴─────────┴────────────┴──────────────────────────────┴──────────────────────────┘  │\n",
       "╰────────────────────────────────────────────────────── End ──────────────────────────────────────────────────────╯\n"
      ]
     },
     "metadata": {},
     "output_type": "display_data"
    }
   ],
   "source": [
    "skim(loan)"
   ]
  },
  {
   "cell_type": "code",
   "execution_count": 6,
   "id": "6d4c7cca",
   "metadata": {},
   "outputs": [
    {
     "name": "stdout",
     "output_type": "stream",
     "text": [
      "Number of columns 22 Number of Rows 45211\n"
     ]
    }
   ],
   "source": [
    "#shape of the data\n",
    "print(\"Number of columns\",len(loan.columns),\"Number of Rows\",len(loan))"
   ]
  },
  {
   "cell_type": "code",
   "execution_count": 7,
   "id": "9d67e7bf",
   "metadata": {},
   "outputs": [
    {
     "data": {
      "image/png": "[encoded data removed]",
      "text/plain": [
       "<Figure size 2000x1200 with 5 Axes>"
      ]
     },
     "metadata": {},
     "output_type": "display_data"
    }
   ],
   "source": [
    "#description of the data and finding outliers\n",
    "fig,axes=plt.subplots(1,5,figsize=(20,12))\n",
    "sns.boxplot(loan[\"age\"],ax=axes[0])\n",
    "axes[0].set_title(\"age column\")\n",
    "axes[0].set_xlabel(\"Age\")\n",
    "axes[0].set_ylabel(\"Value\")\n",
    "axes[0].set_facecolor(\"#6c5b7b\")\n",
    "#box plot for salary\n",
    "sns.boxplot(loan[\"salary\"],ax=axes[1])\n",
    "axes[1].set_title(\"salary column\")\n",
    "axes[1].set_xlabel(\"salary\")\n",
    "axes[1].set_ylabel(\"Value\")\n",
    "axes[1].set_facecolor(\"#c06c84\")\n",
    "#box plot balance\n",
    "sns.boxplot(loan[\"balance\"],ax=axes[2])\n",
    "axes[2].set_title(\"balance column\")\n",
    "axes[2].set_xlabel(\"balance\")\n",
    "axes[2].set_ylabel(\"Value\")\n",
    "axes[2].set_facecolor(\"#c06c84\")\n",
    "#box plot duration\n",
    "sns.boxplot(loan[\"duration\"],ax=axes[3])\n",
    "axes[3].set_title(\"duration column\")\n",
    "axes[3].set_xlabel(\"duration\")\n",
    "axes[3].set_ylabel(\"Value\")\n",
    "axes[3].set_facecolor(\"#c06c84\")\n",
    "#box plot duration\n",
    "sns.boxplot(loan[\"years\"],ax=axes[4])\n",
    "axes[4].set_title(\"years column\")\n",
    "axes[4].set_xlabel(\"years\")\n",
    "axes[4].set_ylabel(\"Value\")\n",
    "axes[4].set_facecolor(\"#c06c84\")\n",
    "\n"
   ]
  },
  {
   "cell_type": "code",
   "execution_count": 8,
   "id": "2a44bfeb",
   "metadata": {},
   "outputs": [
    {
     "data": {
      "text/plain": [
       "Index(['customerid', 'age', 'salary', 'balance', 'marital', 'targeted',\n",
       "       'default', 'housing', 'loan', 'contact', 'day', 'month', 'duration',\n",
       "       'campaign', 'pdays', 'previous', 'poutcome', 'response', 'job',\n",
       "       'education', 'months', 'years'],\n",
       "      dtype='object')"
      ]
     },
     "execution_count": 8,
     "metadata": {},
     "output_type": "execute_result"
    }
   ],
   "source": [
    "loan.columns"
   ]
  },
  {
   "cell_type": "markdown",
   "id": "f9c06cbc",
   "metadata": {},
   "source": [
    "## Finding the duplicates in data"
   ]
  },
  {
   "cell_type": "code",
   "execution_count": 9,
   "id": "8b2b5e1b",
   "metadata": {},
   "outputs": [
    {
     "data": {
      "text/plain": [
       "0"
      ]
     },
     "execution_count": 9,
     "metadata": {},
     "output_type": "execute_result"
    }
   ],
   "source": [
    "loan.duplicated().sum()"
   ]
  },
  {
   "cell_type": "markdown",
   "id": "9575f644",
   "metadata": {},
   "source": [
    "# Handling Null values in the data set"
   ]
  },
  {
   "cell_type": "code",
   "execution_count": 10,
   "id": "4776abca",
   "metadata": {},
   "outputs": [
    {
     "data": {
      "text/plain": [
       "customerid     0\n",
       "age            0\n",
       "salary         0\n",
       "balance        0\n",
       "marital        0\n",
       "targeted       0\n",
       "default        0\n",
       "housing        0\n",
       "loan           0\n",
       "contact        0\n",
       "day            0\n",
       "month         50\n",
       "duration       0\n",
       "campaign       0\n",
       "pdays          0\n",
       "previous       0\n",
       "poutcome       0\n",
       "response       0\n",
       "job            0\n",
       "education      0\n",
       "months        50\n",
       "years         50\n",
       "dtype: int64"
      ]
     },
     "execution_count": 10,
     "metadata": {},
     "output_type": "execute_result"
    }
   ],
   "source": [
    "loan.isnull().sum()"
   ]
  },
  {
   "cell_type": "markdown",
   "id": "9dd5002a",
   "metadata": {},
   "source": [
    "## Describeing the data\n"
   ]
  },
  {
   "cell_type": "code",
   "execution_count": 11,
   "id": "bedb3f05",
   "metadata": {},
   "outputs": [
    {
     "data": {
      "text/html": [
       "<style type=\"text/css\">\n",
       "#T_ce820_row0_col0, #T_ce820_row0_col4, #T_ce820_row0_col5, #T_ce820_row0_col6, #T_ce820_row1_col0, #T_ce820_row3_col0, #T_ce820_row4_col0, #T_ce820_row5_col0, #T_ce820_row6_col0, #T_ce820_row7_col0, #T_ce820_row8_col0, #T_ce820_row9_col0 {\n",
       "  background-color: #00441b;\n",
       "  color: #f1f1f1;\n",
       "}\n",
       "#T_ce820_row0_col1 {\n",
       "  background-color: #00441b;\n",
       "  color: #f1f1f1;\n",
       "  width: 10em;\n",
       "  background: linear-gradient(90deg, blue 100.0%, transparent 100.0%);\n",
       "}\n",
       "#T_ce820_row0_col2 {\n",
       "  background-color: #00441b;\n",
       "  color: #f1f1f1;\n",
       "  width: 10em;\n",
       "  background: linear-gradient(90deg, red 100.0%, transparent 100.0%);\n",
       "}\n",
       "#T_ce820_row0_col3, #T_ce820_row7_col3, #T_ce820_row9_col3 {\n",
       "  background-color: #157f3b;\n",
       "  color: #f1f1f1;\n",
       "  width: 10em;\n",
       "}\n",
       "#T_ce820_row0_col7 {\n",
       "  background-color: #00441b;\n",
       "  color: #f1f1f1;\n",
       "  width: 10em;\n",
       "  background: linear-gradient(90deg, pink 100.0%, transparent 100.0%);\n",
       "}\n",
       "#T_ce820_row1_col1 {\n",
       "  background-color: #90d4c3;\n",
       "  color: #000000;\n",
       "  width: 10em;\n",
       "  background: linear-gradient(90deg, blue 39.6%, transparent 39.6%);\n",
       "}\n",
       "#T_ce820_row1_col2 {\n",
       "  background-color: #8cd2bf;\n",
       "  color: #000000;\n",
       "  width: 10em;\n",
       "  background: linear-gradient(90deg, red 40.8%, transparent 40.8%);\n",
       "}\n",
       "#T_ce820_row1_col3, #T_ce820_row5_col3, #T_ce820_row6_col3, #T_ce820_row8_col3 {\n",
       "  background-color: #157f3b;\n",
       "  color: #f1f1f1;\n",
       "  width: 10em;\n",
       "  background: linear-gradient(90deg, transparent 79.9%, violet 79.9%, violet 79.9%, transparent 79.9%);\n",
       "}\n",
       "#T_ce820_row1_col4 {\n",
       "  background-color: #53b88c;\n",
       "  color: #f1f1f1;\n",
       "}\n",
       "#T_ce820_row1_col5 {\n",
       "  background-color: #98d8c9;\n",
       "  color: #000000;\n",
       "}\n",
       "#T_ce820_row1_col6 {\n",
       "  background-color: #6cc4a8;\n",
       "  color: #000000;\n",
       "}\n",
       "#T_ce820_row1_col7 {\n",
       "  background-color: #98d8c9;\n",
       "  color: #000000;\n",
       "  width: 10em;\n",
       "  background: linear-gradient(90deg, pink 37.7%, transparent 37.7%);\n",
       "}\n",
       "#T_ce820_row2_col0, #T_ce820_row3_col4, #T_ce820_row4_col4, #T_ce820_row4_col5, #T_ce820_row4_col6, #T_ce820_row5_col4, #T_ce820_row5_col5, #T_ce820_row5_col6, #T_ce820_row6_col4, #T_ce820_row6_col5, #T_ce820_row6_col6, #T_ce820_row7_col4, #T_ce820_row7_col5, #T_ce820_row7_col6, #T_ce820_row8_col4, #T_ce820_row8_col5, #T_ce820_row8_col6, #T_ce820_row9_col4, #T_ce820_row9_col5, #T_ce820_row9_col6 {\n",
       "  background-color: #f7fcfd;\n",
       "  color: #000000;\n",
       "}\n",
       "#T_ce820_row2_col1 {\n",
       "  background-color: #f2fafc;\n",
       "  color: #000000;\n",
       "  width: 10em;\n",
       "  background: linear-gradient(90deg, blue 3.5%, transparent 3.5%);\n",
       "}\n",
       "#T_ce820_row2_col2 {\n",
       "  background-color: #f7fcfd;\n",
       "  color: #000000;\n",
       "  width: 10em;\n",
       "}\n",
       "#T_ce820_row2_col3 {\n",
       "  background-color: #00441b;\n",
       "  color: #f1f1f1;\n",
       "  width: 10em;\n",
       "  background: linear-gradient(90deg, transparent 79.9%, violet 79.9%, violet 100.0%, transparent 100.0%);\n",
       "}\n",
       "#T_ce820_row2_col4 {\n",
       "  background-color: #e9f7fa;\n",
       "  color: #000000;\n",
       "}\n",
       "#T_ce820_row2_col5 {\n",
       "  background-color: #f2fafc;\n",
       "  color: #000000;\n",
       "}\n",
       "#T_ce820_row2_col6 {\n",
       "  background-color: #f3fafc;\n",
       "  color: #000000;\n",
       "}\n",
       "#T_ce820_row2_col7 {\n",
       "  background-color: #f5fbfc;\n",
       "  color: #000000;\n",
       "  width: 10em;\n",
       "  background: linear-gradient(90deg, pink 1.7%, transparent 1.7%);\n",
       "}\n",
       "#T_ce820_row3_col1 {\n",
       "  background-color: #f4fbfc;\n",
       "  color: #000000;\n",
       "  width: 10em;\n",
       "  background: linear-gradient(90deg, blue 2.4%, transparent 2.4%);\n",
       "}\n",
       "#T_ce820_row3_col2 {\n",
       "  background-color: #e9f7fa;\n",
       "  color: #000000;\n",
       "  width: 10em;\n",
       "  background: linear-gradient(90deg, red 9.5%, transparent 9.5%);\n",
       "}\n",
       "#T_ce820_row3_col3 {\n",
       "  background-color: #f7fcfd;\n",
       "  color: #000000;\n",
       "  width: 10em;\n",
       "  background: linear-gradient(90deg, violet 79.9%, transparent 79.9%);\n",
       "}\n",
       "#T_ce820_row3_col5 {\n",
       "  background-color: #f6fcfd;\n",
       "  color: #000000;\n",
       "}\n",
       "#T_ce820_row3_col6 {\n",
       "  background-color: #f4fbfc;\n",
       "  color: #000000;\n",
       "}\n",
       "#T_ce820_row3_col7 {\n",
       "  background-color: #077331;\n",
       "  color: #f1f1f1;\n",
       "  width: 10em;\n",
       "  background: linear-gradient(90deg, pink 85.1%, transparent 85.1%);\n",
       "}\n",
       "#T_ce820_row4_col1, #T_ce820_row5_col1 {\n",
       "  background-color: #f7fcfd;\n",
       "  color: #000000;\n",
       "  width: 10em;\n",
       "  background: linear-gradient(90deg, blue 0.1%, transparent 0.1%);\n",
       "}\n",
       "#T_ce820_row4_col2, #T_ce820_row6_col2, #T_ce820_row7_col2, #T_ce820_row8_col2, #T_ce820_row9_col2 {\n",
       "  background-color: #f7fcfd;\n",
       "  color: #000000;\n",
       "  width: 10em;\n",
       "  background: linear-gradient(90deg, red 0.0%, transparent 0.0%);\n",
       "}\n",
       "#T_ce820_row4_col3 {\n",
       "  background-color: #147e3a;\n",
       "  color: #f1f1f1;\n",
       "  width: 10em;\n",
       "  background: linear-gradient(90deg, transparent 79.9%, violet 79.9%, violet 80.1%, transparent 80.1%);\n",
       "}\n",
       "#T_ce820_row4_col7, #T_ce820_row7_col7, #T_ce820_row8_col7 {\n",
       "  background-color: #f7fcfd;\n",
       "  color: #000000;\n",
       "  width: 10em;\n",
       "  background: linear-gradient(90deg, pink 0.1%, transparent 0.1%);\n",
       "}\n",
       "#T_ce820_row5_col2 {\n",
       "  background-color: #f7fcfd;\n",
       "  color: #000000;\n",
       "  width: 10em;\n",
       "  background: linear-gradient(90deg, red 0.3%, transparent 0.3%);\n",
       "}\n",
       "#T_ce820_row5_col7 {\n",
       "  background-color: #f6fcfd;\n",
       "  color: #000000;\n",
       "  width: 10em;\n",
       "  background: linear-gradient(90deg, pink 0.7%, transparent 0.7%);\n",
       "}\n",
       "#T_ce820_row6_col1, #T_ce820_row7_col1, #T_ce820_row8_col1, #T_ce820_row9_col1 {\n",
       "  background-color: #f7fcfd;\n",
       "  color: #000000;\n",
       "  width: 10em;\n",
       "  background: linear-gradient(90deg, blue 0.0%, transparent 0.0%);\n",
       "}\n",
       "#T_ce820_row6_col7 {\n",
       "  background-color: #f7fcfd;\n",
       "  color: #000000;\n",
       "  width: 10em;\n",
       "  background: linear-gradient(90deg, pink 0.0%, transparent 0.0%);\n",
       "}\n",
       "#T_ce820_row9_col7 {\n",
       "  background-color: #f7fcfd;\n",
       "  color: #000000;\n",
       "  width: 10em;\n",
       "  background: linear-gradient(90deg, pink 0.2%, transparent 0.2%);\n",
       "}\n",
       "</style>\n",
       "<table id=\"T_ce820\">\n",
       "  <thead>\n",
       "    <tr>\n",
       "      <th class=\"blank level0\" >&nbsp;</th>\n",
       "      <th id=\"T_ce820_level0_col0\" class=\"col_heading level0 col0\" >count</th>\n",
       "      <th id=\"T_ce820_level0_col1\" class=\"col_heading level0 col1\" >mean</th>\n",
       "      <th id=\"T_ce820_level0_col2\" class=\"col_heading level0 col2\" >std</th>\n",
       "      <th id=\"T_ce820_level0_col3\" class=\"col_heading level0 col3\" >min</th>\n",
       "      <th id=\"T_ce820_level0_col4\" class=\"col_heading level0 col4\" >25%</th>\n",
       "      <th id=\"T_ce820_level0_col5\" class=\"col_heading level0 col5\" >50%</th>\n",
       "      <th id=\"T_ce820_level0_col6\" class=\"col_heading level0 col6\" >75%</th>\n",
       "      <th id=\"T_ce820_level0_col7\" class=\"col_heading level0 col7\" >max</th>\n",
       "    </tr>\n",
       "  </thead>\n",
       "  <tbody>\n",
       "    <tr>\n",
       "      <th id=\"T_ce820_level0_row0\" class=\"row_heading level0 row0\" >salary</th>\n",
       "      <td id=\"T_ce820_row0_col0\" class=\"data row0 col0\" >45211.000000</td>\n",
       "      <td id=\"T_ce820_row0_col1\" class=\"data row0 col1\" >57084.453698</td>\n",
       "      <td id=\"T_ce820_row0_col2\" class=\"data row0 col2\" >32016.099611</td>\n",
       "      <td id=\"T_ce820_row0_col3\" class=\"data row0 col3\" >0.000000</td>\n",
       "      <td id=\"T_ce820_row0_col4\" class=\"data row0 col4\" >20000.000000</td>\n",
       "      <td id=\"T_ce820_row0_col5\" class=\"data row0 col5\" >60000.000000</td>\n",
       "      <td id=\"T_ce820_row0_col6\" class=\"data row0 col6\" >70000.000000</td>\n",
       "      <td id=\"T_ce820_row0_col7\" class=\"data row0 col7\" >120000.000000</td>\n",
       "    </tr>\n",
       "    <tr>\n",
       "      <th id=\"T_ce820_level0_row1\" class=\"row_heading level0 row1\" >customerid</th>\n",
       "      <td id=\"T_ce820_row1_col0\" class=\"data row1 col0\" >45211.000000</td>\n",
       "      <td id=\"T_ce820_row1_col1\" class=\"data row1 col1\" >22606.000000</td>\n",
       "      <td id=\"T_ce820_row1_col2\" class=\"data row1 col2\" >13051.435847</td>\n",
       "      <td id=\"T_ce820_row1_col3\" class=\"data row1 col3\" >1.000000</td>\n",
       "      <td id=\"T_ce820_row1_col4\" class=\"data row1 col4\" >11303.500000</td>\n",
       "      <td id=\"T_ce820_row1_col5\" class=\"data row1 col5\" >22606.000000</td>\n",
       "      <td id=\"T_ce820_row1_col6\" class=\"data row1 col6\" >33908.500000</td>\n",
       "      <td id=\"T_ce820_row1_col7\" class=\"data row1 col7\" >45211.000000</td>\n",
       "    </tr>\n",
       "    <tr>\n",
       "      <th id=\"T_ce820_level0_row2\" class=\"row_heading level0 row2\" >years</th>\n",
       "      <td id=\"T_ce820_row2_col0\" class=\"data row2 col0\" >45161.000000</td>\n",
       "      <td id=\"T_ce820_row2_col1\" class=\"data row2 col1\" >2017.000000</td>\n",
       "      <td id=\"T_ce820_row2_col2\" class=\"data row2 col2\" >0.000000</td>\n",
       "      <td id=\"T_ce820_row2_col3\" class=\"data row2 col3\" >2017.000000</td>\n",
       "      <td id=\"T_ce820_row2_col4\" class=\"data row2 col4\" >2017.000000</td>\n",
       "      <td id=\"T_ce820_row2_col5\" class=\"data row2 col5\" >2017.000000</td>\n",
       "      <td id=\"T_ce820_row2_col6\" class=\"data row2 col6\" >2017.000000</td>\n",
       "      <td id=\"T_ce820_row2_col7\" class=\"data row2 col7\" >2017.000000</td>\n",
       "    </tr>\n",
       "    <tr>\n",
       "      <th id=\"T_ce820_level0_row3\" class=\"row_heading level0 row3\" >balance</th>\n",
       "      <td id=\"T_ce820_row3_col0\" class=\"data row3 col0\" >45211.000000</td>\n",
       "      <td id=\"T_ce820_row3_col1\" class=\"data row3 col1\" >1362.272058</td>\n",
       "      <td id=\"T_ce820_row3_col2\" class=\"data row3 col2\" >3044.765829</td>\n",
       "      <td id=\"T_ce820_row3_col3\" class=\"data row3 col3\" >-8019.000000</td>\n",
       "      <td id=\"T_ce820_row3_col4\" class=\"data row3 col4\" >72.000000</td>\n",
       "      <td id=\"T_ce820_row3_col5\" class=\"data row3 col5\" >448.000000</td>\n",
       "      <td id=\"T_ce820_row3_col6\" class=\"data row3 col6\" >1428.000000</td>\n",
       "      <td id=\"T_ce820_row3_col7\" class=\"data row3 col7\" >102127.000000</td>\n",
       "    </tr>\n",
       "    <tr>\n",
       "      <th id=\"T_ce820_level0_row4\" class=\"row_heading level0 row4\" >age</th>\n",
       "      <td id=\"T_ce820_row4_col0\" class=\"data row4 col0\" >45211.000000</td>\n",
       "      <td id=\"T_ce820_row4_col1\" class=\"data row4 col1\" >40.934795</td>\n",
       "      <td id=\"T_ce820_row4_col2\" class=\"data row4 col2\" >10.616926</td>\n",
       "      <td id=\"T_ce820_row4_col3\" class=\"data row4 col3\" >18.000000</td>\n",
       "      <td id=\"T_ce820_row4_col4\" class=\"data row4 col4\" >33.000000</td>\n",
       "      <td id=\"T_ce820_row4_col5\" class=\"data row4 col5\" >39.000000</td>\n",
       "      <td id=\"T_ce820_row4_col6\" class=\"data row4 col6\" >48.000000</td>\n",
       "      <td id=\"T_ce820_row4_col7\" class=\"data row4 col7\" >95.000000</td>\n",
       "    </tr>\n",
       "    <tr>\n",
       "      <th id=\"T_ce820_level0_row5\" class=\"row_heading level0 row5\" >pdays</th>\n",
       "      <td id=\"T_ce820_row5_col0\" class=\"data row5 col0\" >45211.000000</td>\n",
       "      <td id=\"T_ce820_row5_col1\" class=\"data row5 col1\" >40.197828</td>\n",
       "      <td id=\"T_ce820_row5_col2\" class=\"data row5 col2\" >100.128746</td>\n",
       "      <td id=\"T_ce820_row5_col3\" class=\"data row5 col3\" >-1.000000</td>\n",
       "      <td id=\"T_ce820_row5_col4\" class=\"data row5 col4\" >-1.000000</td>\n",
       "      <td id=\"T_ce820_row5_col5\" class=\"data row5 col5\" >-1.000000</td>\n",
       "      <td id=\"T_ce820_row5_col6\" class=\"data row5 col6\" >-1.000000</td>\n",
       "      <td id=\"T_ce820_row5_col7\" class=\"data row5 col7\" >871.000000</td>\n",
       "    </tr>\n",
       "    <tr>\n",
       "      <th id=\"T_ce820_level0_row6\" class=\"row_heading level0 row6\" >day</th>\n",
       "      <td id=\"T_ce820_row6_col0\" class=\"data row6 col0\" >45211.000000</td>\n",
       "      <td id=\"T_ce820_row6_col1\" class=\"data row6 col1\" >15.806419</td>\n",
       "      <td id=\"T_ce820_row6_col2\" class=\"data row6 col2\" >8.322476</td>\n",
       "      <td id=\"T_ce820_row6_col3\" class=\"data row6 col3\" >1.000000</td>\n",
       "      <td id=\"T_ce820_row6_col4\" class=\"data row6 col4\" >8.000000</td>\n",
       "      <td id=\"T_ce820_row6_col5\" class=\"data row6 col5\" >16.000000</td>\n",
       "      <td id=\"T_ce820_row6_col6\" class=\"data row6 col6\" >21.000000</td>\n",
       "      <td id=\"T_ce820_row6_col7\" class=\"data row6 col7\" >31.000000</td>\n",
       "    </tr>\n",
       "    <tr>\n",
       "      <th id=\"T_ce820_level0_row7\" class=\"row_heading level0 row7\" >duration</th>\n",
       "      <td id=\"T_ce820_row7_col0\" class=\"data row7 col0\" >45211.000000</td>\n",
       "      <td id=\"T_ce820_row7_col1\" class=\"data row7 col1\" >4.302729</td>\n",
       "      <td id=\"T_ce820_row7_col2\" class=\"data row7 col2\" >4.292132</td>\n",
       "      <td id=\"T_ce820_row7_col3\" class=\"data row7 col3\" >0.000000</td>\n",
       "      <td id=\"T_ce820_row7_col4\" class=\"data row7 col4\" >1.720000</td>\n",
       "      <td id=\"T_ce820_row7_col5\" class=\"data row7 col5\" >3.000000</td>\n",
       "      <td id=\"T_ce820_row7_col6\" class=\"data row7 col6\" >5.320000</td>\n",
       "      <td id=\"T_ce820_row7_col7\" class=\"data row7 col7\" >81.970000</td>\n",
       "    </tr>\n",
       "    <tr>\n",
       "      <th id=\"T_ce820_level0_row8\" class=\"row_heading level0 row8\" >campaign</th>\n",
       "      <td id=\"T_ce820_row8_col0\" class=\"data row8 col0\" >45211.000000</td>\n",
       "      <td id=\"T_ce820_row8_col1\" class=\"data row8 col1\" >2.763841</td>\n",
       "      <td id=\"T_ce820_row8_col2\" class=\"data row8 col2\" >3.098021</td>\n",
       "      <td id=\"T_ce820_row8_col3\" class=\"data row8 col3\" >1.000000</td>\n",
       "      <td id=\"T_ce820_row8_col4\" class=\"data row8 col4\" >1.000000</td>\n",
       "      <td id=\"T_ce820_row8_col5\" class=\"data row8 col5\" >2.000000</td>\n",
       "      <td id=\"T_ce820_row8_col6\" class=\"data row8 col6\" >3.000000</td>\n",
       "      <td id=\"T_ce820_row8_col7\" class=\"data row8 col7\" >63.000000</td>\n",
       "    </tr>\n",
       "    <tr>\n",
       "      <th id=\"T_ce820_level0_row9\" class=\"row_heading level0 row9\" >previous</th>\n",
       "      <td id=\"T_ce820_row9_col0\" class=\"data row9 col0\" >45211.000000</td>\n",
       "      <td id=\"T_ce820_row9_col1\" class=\"data row9 col1\" >0.580323</td>\n",
       "      <td id=\"T_ce820_row9_col2\" class=\"data row9 col2\" >2.303441</td>\n",
       "      <td id=\"T_ce820_row9_col3\" class=\"data row9 col3\" >0.000000</td>\n",
       "      <td id=\"T_ce820_row9_col4\" class=\"data row9 col4\" >0.000000</td>\n",
       "      <td id=\"T_ce820_row9_col5\" class=\"data row9 col5\" >0.000000</td>\n",
       "      <td id=\"T_ce820_row9_col6\" class=\"data row9 col6\" >0.000000</td>\n",
       "      <td id=\"T_ce820_row9_col7\" class=\"data row9 col7\" >275.000000</td>\n",
       "    </tr>\n",
       "  </tbody>\n",
       "</table>\n"
      ],
      "text/plain": [
       "<pandas.io.formats.style.Styler at 0x27cdcf94b50>"
      ]
     },
     "execution_count": 11,
     "metadata": {},
     "output_type": "execute_result"
    }
   ],
   "source": [
    "# loan.describe() to get summary statistics for the numerical columns\n",
    "loan.describe().T.sort_values(ascending = 0,by = \"mean\").style.background_gradient(cmap = \"BuGn\")\\\n",
    ".bar(subset = [\"std\"], color =\"red\").bar(subset = [\"mean\"], color =\"blue\").bar(subset=[\"min\"],color=\"violet\")\\\n",
    ".bar(subset=[\"max\"],color=\"pink\")"
   ]
  },
  {
   "cell_type": "code",
   "execution_count": 12,
   "id": "3a002b27",
   "metadata": {},
   "outputs": [
    {
     "data": {
      "text/plain": [
       "customerid      int64\n",
       "age           float64\n",
       "salary        float64\n",
       "balance         int64\n",
       "marital        object\n",
       "targeted       object\n",
       "default        object\n",
       "housing        object\n",
       "loan           object\n",
       "contact        object\n",
       "day             int64\n",
       "month          object\n",
       "duration      float64\n",
       "campaign        int64\n",
       "pdays           int64\n",
       "previous        int64\n",
       "poutcome       object\n",
       "response       object\n",
       "job            object\n",
       "education      object\n",
       "months         object\n",
       "years         float64\n",
       "dtype: object"
      ]
     },
     "execution_count": 12,
     "metadata": {},
     "output_type": "execute_result"
    }
   ],
   "source": [
    "#describeing the data types of all the columns\n",
    "loan.dtypes"
   ]
  },
  {
   "cell_type": "code",
   "execution_count": 13,
   "id": "8612217f",
   "metadata": {},
   "outputs": [
    {
     "data": {
      "text/plain": [
       "months    50\n",
       "dtype: int64"
      ]
     },
     "execution_count": 13,
     "metadata": {},
     "output_type": "execute_result"
    }
   ],
   "source": [
    "#filling null values in month feature \n",
    "loan[[\"months\"]].isnull().sum()"
   ]
  },
  {
   "cell_type": "markdown",
   "id": "d7caa155",
   "metadata": {},
   "source": [
    "# Mode\n",
    "when missing values in your data set are categorical and discrete you can use the mode value to fill in the missing values"
   ]
  },
  {
   "cell_type": "code",
   "execution_count": 14,
   "id": "b93c09c0",
   "metadata": {},
   "outputs": [
    {
     "data": {
      "text/plain": [
       "50"
      ]
     },
     "execution_count": 14,
     "metadata": {},
     "output_type": "execute_result"
    }
   ],
   "source": [
    "loan[\"months\"].fillna(loan[\"months\"].mode(),inplace=True)\n",
    "loan[\"months\"].isnull().sum()"
   ]
  },
  {
   "cell_type": "markdown",
   "id": "135b3440",
   "metadata": {},
   "source": [
    "filling null values in year column[\"year\"]\n",
    "### when the data is in a normal distrubution you can fill with mean  when data is not in normal distribution we can fill it with mean"
   ]
  },
  {
   "cell_type": "markdown",
   "id": "16bdd081",
   "metadata": {},
   "source": [
    "        #checking data in Nd or Not with help of The Shapiro-Wilk test is a statistical test used to determine whether a data sample is Gaussian or not. In other words, it tests the hypothesis that a sample comes from a normally distributed population.\n",
    "        \n",
    "        With help of Graph|\n",
    "        #And  You can use the hist() and qqplot() functions from the matplotlib library to create these plots."
   ]
  },
  {
   "cell_type": "code",
   "execution_count": 15,
   "id": "340ce461",
   "metadata": {},
   "outputs": [
    {
     "name": "stdout",
     "output_type": "stream",
     "text": [
      "Test statistic: nan\n",
      "p-value: 1.0\n",
      "the data follows normal distribution(failed to reject h0)\n"
     ]
    }
   ],
   "source": [
    "#statistical method # hypothesis method null,and alternative hypothesis\n",
    "from scipy.stats import shapiro\n",
    "stat,p=shapiro(loan[\"years\"][0:4000])\n",
    "#h0=The data follows Nd\n",
    "#h1=the data does not follow Nd\n",
    "print('Test statistic:', stat)\n",
    "print('p-value:', p)\n",
    "p=0.05 #5% rejection\n",
    "if p<0.05:\n",
    "    print(\"The data does not follow  normal distribuition(ho is rejected)\")\n",
    "else:\n",
    "    print(\"the data follows normal distribution(failed to reject h0)\")\n",
    "#Note When we have missing values we can find normal distribution better to use plotting "
   ]
  },
  {
   "cell_type": "code",
   "execution_count": 16,
   "id": "5d68ea14",
   "metadata": {},
   "outputs": [
    {
     "data": {
      "image/png": "[encoded data removed]",
      "text/plain": [
       "<Figure size 640x480 with 1 Axes>"
      ]
     },
     "metadata": {},
     "output_type": "display_data"
    }
   ],
   "source": [
    "#qq plot known as (quantile-quantile) plot\n",
    "pl=loan[\"years\"].values\n",
    "#Create a Q-Q plot of the data\n",
    "fig,ax = plt.subplots()\n",
    "sm.qqplot(pl,line='45', ax=ax)\n",
    "ax.set_title('Q-Q plot')\n",
    "plt.show()"
   ]
  },
  {
   "cell_type": "code",
   "execution_count": 17,
   "id": "d66d1871",
   "metadata": {},
   "outputs": [
    {
     "name": "stderr",
     "output_type": "stream",
     "text": [
      "C:\\Users\\91779\\AppData\\Local\\Temp\\ipykernel_3336\\2646724316.py:6: RuntimeWarning: divide by zero encountered in double_scalars\n",
      "  pdf=(1/(std_dev * np.sqrt(2 * np.pi))) * np.exp(-((x_axis - mean)**2 / (2 * std_dev**2)))\n",
      "C:\\Users\\91779\\AppData\\Local\\Temp\\ipykernel_3336\\2646724316.py:6: RuntimeWarning: invalid value encountered in divide\n",
      "  pdf=(1/(std_dev * np.sqrt(2 * np.pi))) * np.exp(-((x_axis - mean)**2 / (2 * std_dev**2)))\n",
      "C:\\Users\\91779\\AppData\\Local\\Temp\\ipykernel_3336\\2646724316.py:7: UserWarning: \n",
      "\n",
      "`distplot` is a deprecated function and will be removed in seaborn v0.14.0.\n",
      "\n",
      "Please adapt your code to use either `displot` (a figure-level function with\n",
      "similar flexibility) or `histplot` (an axes-level function for histograms).\n",
      "\n",
      "For a guide to updating your code to use the new functions, please see\n",
      "https://gist.github.com/mwaskom/de44147ed2974457ad6372750bbe5751\n",
      "\n",
      "  sns.distplot(year, hist=True, kde=True, bins=30, color='blue', hist_kws={'edgecolor':'black'}, kde_kws={'linewidth': 2})\n",
      "C:\\ProgramData\\anaconda3\\lib\\site-packages\\seaborn\\distributions.py:2511: UserWarning: Dataset has 0 variance; skipping density estimate. Pass `warn_singular=False` to disable this warning.\n",
      "  kdeplot(**{axis: a}, ax=ax, color=kde_color, **kde_kws)\n"
     ]
    },
    {
     "data": {
      "image/png": "[encoded data removed]",
      "text/plain": [
       "<Figure size 640x480 with 1 Axes>"
      ]
     },
     "metadata": {},
     "output_type": "display_data"
    },
    {
     "data": {
      "text/plain": [
       "<Figure size 2000x2000 with 0 Axes>"
      ]
     },
     "execution_count": 17,
     "metadata": {},
     "output_type": "execute_result"
    },
    {
     "data": {
      "text/plain": [
       "<Figure size 2000x2000 with 0 Axes>"
      ]
     },
     "metadata": {},
     "output_type": "display_data"
    }
   ],
   "source": [
    "year=loan['years']\n",
    "mean= np.mean(year)\n",
    "std_dev=np.std(year)\n",
    "mean,std_dev\n",
    "x_axis = np.linspace(min(year), max(year),2000)\n",
    "pdf=(1/(std_dev * np.sqrt(2 * np.pi))) * np.exp(-((x_axis - mean)**2 / (2 * std_dev**2)))\n",
    "sns.distplot(year, hist=True, kde=True, bins=30, color='blue', hist_kws={'edgecolor':'black'}, kde_kws={'linewidth': 2})\n",
    "plt.plot(x_axis, pdf, color='red', linewidth=2)\n",
    "plt.xlabel('Values')\n",
    "plt.ylabel('Frequency')\n",
    "plt.title('Normal Distribution Curve')\n",
    "plt.show()\n",
    "plt.figure(figsize=(20,20)) "
   ]
  },
  {
   "cell_type": "code",
   "execution_count": 18,
   "id": "dcd698d1",
   "metadata": {},
   "outputs": [],
   "source": [
    "loan[\"years\"].fillna(loan[\"years\"].mean(),inplace=True)"
   ]
  },
  {
   "cell_type": "code",
   "execution_count": 19,
   "id": "05e5abdc",
   "metadata": {},
   "outputs": [
    {
     "data": {
      "text/plain": [
       "Text(0.5, 1.0, ' Balance Amount present customers Bank')"
      ]
     },
     "execution_count": 19,
     "metadata": {},
     "output_type": "execute_result"
    },
    {
     "data": {
      "image/png": "[encoded data removed]",
      "text/plain": [
       "<Figure size 640x480 with 1 Axes>"
      ]
     },
     "metadata": {},
     "output_type": "display_data"
    }
   ],
   "source": [
    "#- Univariate Analysis -> PDF, Histograms, Boxplots, Count plots, etc..\n",
    "#density plot for univarient\n",
    "import seaborn as sns\n",
    "sns.kdeplot(loan[\"balance\"],color=\"orange\")\n",
    "plt.title(\" Balance Amount present customers Bank\")"
   ]
  },
  {
   "cell_type": "code",
   "execution_count": 20,
   "id": "11326cb8",
   "metadata": {},
   "outputs": [
    {
     "name": "stderr",
     "output_type": "stream",
     "text": [
      "C:\\Users\\91779\\AppData\\Local\\Temp\\ipykernel_3336\\1272561781.py:1: UserWarning: \n",
      "\n",
      "`distplot` is a deprecated function and will be removed in seaborn v0.14.0.\n",
      "\n",
      "Please adapt your code to use either `displot` (a figure-level function with\n",
      "similar flexibility) or `histplot` (an axes-level function for histograms).\n",
      "\n",
      "For a guide to updating your code to use the new functions, please see\n",
      "https://gist.github.com/mwaskom/de44147ed2974457ad6372750bbe5751\n",
      "\n",
      "  sns.distplot(loan[\"salary\"],hist=True,kde=True,color=\"red\")\n"
     ]
    },
    {
     "data": {
      "image/png": "[encoded data removed]",
      "text/plain": [
       "<Figure size 640x480 with 1 Axes>"
      ]
     },
     "metadata": {},
     "output_type": "display_data"
    }
   ],
   "source": [
    "sns.distplot(loan[\"salary\"],hist=True,kde=True,color=\"red\")\n",
    "plt.title(\"Salary Distribution\")\n",
    "plt.show()\n",
    "#majority of people are with fixed salary 20000,60000,100000"
   ]
  },
  {
   "cell_type": "code",
   "execution_count": 21,
   "id": "6a3918d0",
   "metadata": {},
   "outputs": [],
   "source": [
    "import matplotlib.pyplot as plt"
   ]
  },
  {
   "cell_type": "code",
   "execution_count": 22,
   "id": "6ecc0109",
   "metadata": {},
   "outputs": [
    {
     "data": {
      "text/plain": [
       "Text(0.5, 1.0, 'The Density of age group')"
      ]
     },
     "execution_count": 22,
     "metadata": {},
     "output_type": "execute_result"
    },
    {
     "data": {
      "image/png": "[encoded data removed]",
      "text/plain": [
       "<Figure size 640x480 with 1 Axes>"
      ]
     },
     "metadata": {},
     "output_type": "display_data"
    }
   ],
   "source": [
    "sns.histplot(loan[\"age\"],bins=50,kde=True,color=\"black\")\n",
    "plt.title(\"The Density of age group\",color=\"Green\")\n",
    "#As for density plot is observed that age group between 25 to 55  as higher denstity"
   ]
  },
  {
   "cell_type": "code",
   "execution_count": 23,
   "id": "9822e9fa",
   "metadata": {},
   "outputs": [
    {
     "data": {
      "text/plain": [
       "no     39924\n",
       "yes     5287\n",
       "Name: response, dtype: int64"
      ]
     },
     "execution_count": 23,
     "metadata": {},
     "output_type": "execute_result"
    }
   ],
   "source": [
    "loan[\"response\"].value_counts()"
   ]
  },
  {
   "cell_type": "code",
   "execution_count": 63,
   "id": "deb6a46e",
   "metadata": {},
   "outputs": [
    {
     "data": {
      "image/png": "[encoded data removed]",
      "text/plain": [
       "<Figure size 640x480 with 1 Axes>"
      ]
     },
     "metadata": {},
     "output_type": "display_data"
    }
   ],
   "source": [
    "color=['#f8b195', '#f67280']\n",
    "plt.pie(loan[\"response\"].value_counts(),labels=[\"No\",\"yes\"],autopct=\"%0.3f%%\",radius=1.2,colors=color)\n",
    "plt.show()\n",
    "#out of 100% only 11.7% said yes to our responses"
   ]
  },
  {
   "cell_type": "code",
   "execution_count": 66,
   "id": "9c0b7e65",
   "metadata": {},
   "outputs": [
    {
     "data": {
      "text/plain": [
       "<Axes: xlabel='marital', ylabel='count'>"
      ]
     },
     "execution_count": 66,
     "metadata": {},
     "output_type": "execute_result"
    },
    {
     "data": {
      "image/png": "[encoded data removed]",
      "text/plain": [
       "<Figure size 640x480 with 1 Axes>"
      ]
     },
     "metadata": {},
     "output_type": "display_data"
    }
   ],
   "source": [
    "colors=[\"#6c5b7b\", \"#355c7d\",\"#c06c84\"]\n",
    "color=colors\n",
    "sns.countplot(x=\"marital\",data=loan,palette=colors)\n",
    "#in total population the majority are married second followed by single and 3rd by divorsed"
   ]
  },
  {
   "cell_type": "markdown",
   "id": "dde7745d",
   "metadata": {},
   "source": [
    "pdf:probality denstiy function :is used in normal distribution for contineous data\n",
    "        pdf:will take exact value at a partical position\n",
    "            stats.norm.cdf(x,mean,std)"
   ]
  },
  {
   "cell_type": "code",
   "execution_count": 69,
   "id": "bff302bf",
   "metadata": {},
   "outputs": [
    {
     "data": {
      "text/plain": [
       "(array([39924.,     0.,     0.,     0.,     0.,     0.,     0.,     0.,\n",
       "            0.,  5287.]),\n",
       " array([0. , 0.1, 0.2, 0.3, 0.4, 0.5, 0.6, 0.7, 0.8, 0.9, 1. ]),\n",
       " <BarContainer object of 10 artists>)"
      ]
     },
     "execution_count": 69,
     "metadata": {},
     "output_type": "execute_result"
    },
    {
     "data": {
      "image/png": "[encoded data removed]",
      "text/plain": [
       "<Figure size 640x480 with 1 Axes>"
      ]
     },
     "metadata": {},
     "output_type": "display_data"
    }
   ],
   "source": [
    "plt.hist(loan[\"response\"])\n",
    "#about 40000 people has said no to ivestement only 5000 people said yes "
   ]
  },
  {
   "cell_type": "code",
   "execution_count": null,
   "id": "b0ae7db0",
   "metadata": {},
   "outputs": [],
   "source": [
    "pd.crosstab(loan[\"marital\"],loan[\"response\"],normalize=True)"
   ]
  },
  {
   "cell_type": "code",
   "execution_count": null,
   "id": "3da3ad8b",
   "metadata": {},
   "outputs": [],
   "source": [
    " data=pd.crosstab(loan[\"marital\"],loan[\"response\"],margins=True)\n",
    "data"
   ]
  },
  {
   "cell_type": "code",
   "execution_count": 26,
   "id": "7b4f1d7f",
   "metadata": {},
   "outputs": [
    {
     "data": {
      "text/html": [
       "<div>\n",
       "<style scoped>\n",
       "    .dataframe tbody tr th:only-of-type {\n",
       "        vertical-align: middle;\n",
       "    }\n",
       "\n",
       "    .dataframe tbody tr th {\n",
       "        vertical-align: top;\n",
       "    }\n",
       "\n",
       "    .dataframe thead th {\n",
       "        text-align: right;\n",
       "    }\n",
       "</style>\n",
       "<table border=\"1\" class=\"dataframe\">\n",
       "  <thead>\n",
       "    <tr style=\"text-align: right;\">\n",
       "      <th>response</th>\n",
       "      <th>no</th>\n",
       "      <th>yes</th>\n",
       "      <th>All</th>\n",
       "    </tr>\n",
       "    <tr>\n",
       "      <th>marital</th>\n",
       "      <th></th>\n",
       "      <th></th>\n",
       "      <th></th>\n",
       "    </tr>\n",
       "  </thead>\n",
       "  <tbody>\n",
       "    <tr>\n",
       "      <th>divorced</th>\n",
       "      <td>0.1014</td>\n",
       "      <td>0.0138</td>\n",
       "      <td>0.1152</td>\n",
       "    </tr>\n",
       "    <tr>\n",
       "      <th>married</th>\n",
       "      <td>0.5410</td>\n",
       "      <td>0.0609</td>\n",
       "      <td>0.6019</td>\n",
       "    </tr>\n",
       "    <tr>\n",
       "      <th>single</th>\n",
       "      <td>0.2406</td>\n",
       "      <td>0.0423</td>\n",
       "      <td>0.2829</td>\n",
       "    </tr>\n",
       "    <tr>\n",
       "      <th>All</th>\n",
       "      <td>0.8831</td>\n",
       "      <td>0.1169</td>\n",
       "      <td>1.0000</td>\n",
       "    </tr>\n",
       "  </tbody>\n",
       "</table>\n",
       "</div>"
      ],
      "text/plain": [
       "response      no     yes     All\n",
       "marital                         \n",
       "divorced  0.1014  0.0138  0.1152\n",
       "married   0.5410  0.0609  0.6019\n",
       "single    0.2406  0.0423  0.2829\n",
       "All       0.8831  0.1169  1.0000"
      ]
     },
     "execution_count": 26,
     "metadata": {},
     "output_type": "execute_result"
    }
   ],
   "source": [
    "probality_data=pd.crosstab(loan[\"marital\"],loan[\"response\"],margins=True)/len(loan)\n",
    "data=probality_data.round(decimals=4)\n",
    "data\n"
   ]
  },
  {
   "cell_type": "code",
   "execution_count": 27,
   "id": "a9eaf515",
   "metadata": {},
   "outputs": [
    {
     "data": {
      "text/plain": [
       "(0.1169, 0.8831)"
      ]
     },
     "execution_count": 27,
     "metadata": {},
     "output_type": "execute_result"
    }
   ],
   "source": [
    "p_yes=data.yes.All\n",
    "p_no=data.no.All\n",
    "p_yes,p_no"
   ]
  },
  {
   "cell_type": "code",
   "execution_count": 28,
   "id": "3ba467ea",
   "metadata": {},
   "outputs": [
    {
     "data": {
      "text/plain": [
       "(0.1152, 0.6019, 0.2829)"
      ]
     },
     "execution_count": 28,
     "metadata": {},
     "output_type": "execute_result"
    }
   ],
   "source": [
    "p_all_divorced=data.All.divorced\n",
    "p_all_married=data.All.married\n",
    "p_all_single=data.All.single\n",
    "p_all_divorced,p_all_married,p_all_single"
   ]
  },
  {
   "cell_type": "code",
   "execution_count": 29,
   "id": "8ffdd69e",
   "metadata": {},
   "outputs": [
    {
     "data": {
      "text/plain": [
       "0.1198"
      ]
     },
     "execution_count": 29,
     "metadata": {},
     "output_type": "execute_result"
    }
   ],
   "source": [
    "#p(yes/divorced)=p(yes/divorced)/p_divorced_all\n",
    "p_givenyes_divorced=data.yes.divorced\n",
    "p_yes_divorced=p_givenyes_divorced/p_all_divorced\n",
    "p_yes_divorced.round(decimals=4)"
   ]
  },
  {
   "cell_type": "code",
   "execution_count": 30,
   "id": "28237073",
   "metadata": {},
   "outputs": [
    {
     "data": {
      "text/plain": [
       "0.10117959793985712"
      ]
     },
     "execution_count": 30,
     "metadata": {},
     "output_type": "execute_result"
    }
   ],
   "source": [
    "#p(yes/married)=p(yes/married)/p_married_all\n",
    "p_given_yes_married=data.yes.married\n",
    "p_yes_married=p_given_yes_married/p_all_married\n",
    "p_yes_married"
   ]
  },
  {
   "cell_type": "code",
   "execution_count": 31,
   "id": "56dcf1b6",
   "metadata": {},
   "outputs": [
    {
     "data": {
      "text/plain": [
       "0.14952279957582185"
      ]
     },
     "execution_count": 31,
     "metadata": {},
     "output_type": "execute_result"
    }
   ],
   "source": [
    "#p(yes/single)=p(yes_married)/P_married_all\n",
    "P_given_yes_single=data.yes.single\n",
    "p_yes_single=P_given_yes_single/p_all_single\n",
    "p_yes_single"
   ]
  },
  {
   "cell_type": "code",
   "execution_count": 32,
   "id": "2f22f88a",
   "metadata": {},
   "outputs": [
    {
     "data": {
      "text/plain": [
       "(0.14952279957582185, 'single has more probality of investing ')"
      ]
     },
     "execution_count": 32,
     "metadata": {},
     "output_type": "execute_result"
    }
   ],
   "source": [
    "def pro(x,y,z):\n",
    "    if x>y and x>z:\n",
    "        return(x,\" divorced has more probality\")\n",
    "    elif y>x and y>z:\n",
    "        return(y,\" married has more probality\")\n",
    "    elif z>x and z>y:\n",
    "        return(z,\"single has more probality of investing \")\n",
    "    \n",
    "pro(p_yes_divorced,p_yes_married,p_yes_single)"
   ]
  },
  {
   "cell_type": "markdown",
   "id": "e5945f6d",
   "metadata": {},
   "source": [
    "          The probality of single saying response to yes is greater  so we can concentrate more on singles because the probality of getting the yes from singles is more"
   ]
  },
  {
   "cell_type": "code",
   "execution_count": 33,
   "id": "63ecb675",
   "metadata": {},
   "outputs": [
    {
     "data": {
      "text/plain": [
       "3"
      ]
     },
     "execution_count": 33,
     "metadata": {},
     "output_type": "execute_result"
    }
   ],
   "source": [
    "k=loan.groupby(\"marital\")\n",
    "k.ngroups"
   ]
  },
  {
   "cell_type": "code",
   "execution_count": 34,
   "id": "c2be0ee0",
   "metadata": {},
   "outputs": [
    {
     "data": {
      "text/plain": [
       "(5207, '=divorced', 27214, '=married', 12790, '=single')"
      ]
     },
     "execution_count": 34,
     "metadata": {},
     "output_type": "execute_result"
    }
   ],
   "source": [
    "len(k.get_group(\"divorced\")),\"=divorced\",len(k.get_group(\"married\")),\"=married\",len(k.get_group(\"single\")),\"=single\""
   ]
  },
  {
   "cell_type": "code",
   "execution_count": 35,
   "id": "d009a062",
   "metadata": {},
   "outputs": [
    {
     "data": {
      "text/plain": [
       "1911"
      ]
     },
     "execution_count": 35,
     "metadata": {},
     "output_type": "execute_result"
    }
   ],
   "source": [
    "z=loan.groupby([\"marital\",\"response\"])\n",
    "len(z.get_group((\"single\",\"yes\")))"
   ]
  },
  {
   "cell_type": "code",
   "execution_count": 36,
   "id": "4f7af9e2",
   "metadata": {},
   "outputs": [
    {
     "data": {
      "text/plain": [
       "(2754, 622, 1911)"
      ]
     },
     "execution_count": 36,
     "metadata": {},
     "output_type": "execute_result"
    }
   ],
   "source": [
    "def gi(x,y):\n",
    "    z=loan.groupby([\"marital\",\"response\"])\n",
    "    return len(z.get_group((x,y)))\n",
    "gi(\"married\",\"yes\"),gi(\"divorced\",\"yes\"),gi(\"single\",\"yes\")\n",
    "    "
   ]
  },
  {
   "cell_type": "code",
   "execution_count": 38,
   "id": "c42ab3f9",
   "metadata": {},
   "outputs": [
    {
     "data": {
      "text/plain": [
       "(1301, 840, 123, 708)"
      ]
     },
     "execution_count": 38,
     "metadata": {},
     "output_type": "execute_result"
    }
   ],
   "source": [
    "def job(x,y):\n",
    "        l=loan.groupby([\"job\",\"response\"])\n",
    "        return len(l.get_group((x,y)))\n",
    "job(\"management\",\"yes\"),job(\"technician\", \"yes\"),job(\"entrepreneur\",\"yes\"),job(\"blue-collar\", \"yes\")"
   ]
  },
  {
   "cell_type": "markdown",
   "id": "06046fb4",
   "metadata": {},
   "source": [
    "Find the outliers in each numerical column"
   ]
  },
  {
   "cell_type": "code",
   "execution_count": 39,
   "id": "ad1372ee",
   "metadata": {},
   "outputs": [],
   "source": [
    "import warnings\n",
    "warnings.filterwarnings('ignore')\n",
    "from ipywidgets import interact,interact_manual"
   ]
  },
  {
   "cell_type": "code",
   "execution_count": 40,
   "id": "414fe780",
   "metadata": {},
   "outputs": [
    {
     "data": {
      "application/vnd.jupyter.widget-view+json": {
       "model_id": "a5bc507ad7934c6cb0a3946b8e2a18d6",
       "version_major": 2,
       "version_minor": 0
      },
      "text/plain": [
       "interactive(children=(Dropdown(description='col1', options=('customerid', 'age', 'salary', 'balance', 'day', '…"
      ]
     },
     "metadata": {},
     "output_type": "display_data"
    }
   ],
   "source": [
    "@interact_manual\n",
    "def groupy_(col1=loan.select_dtypes('number').columns):\n",
    "    plt.figure(figsize=(5,3)),sns.boxplot(loan[col1]),plt.xlabel(col1),plt.show()\n",
    "    "
   ]
  },
  {
   "cell_type": "markdown",
   "id": "176cdff5",
   "metadata": {},
   "source": [
    "Understand the probability and frequency distribution of each numerical column"
   ]
  },
  {
   "cell_type": "code",
   "execution_count": 41,
   "id": "14418cd9",
   "metadata": {},
   "outputs": [
    {
     "data": {
      "application/vnd.jupyter.widget-view+json": {
       "model_id": "7271e08b4c3b4c85ad07577e6011a035",
       "version_major": 2,
       "version_minor": 0
      },
      "text/plain": [
       "interactive(children=(Dropdown(description='col1', options=('customerid', 'age', 'salary', 'balance', 'day', '…"
      ]
     },
     "metadata": {},
     "output_type": "display_data"
    }
   ],
   "source": [
    "@interact_manual\n",
    "def groupby_(col1=loan.select_dtypes('number').columns):\n",
    "    plt.figure(figsize=(3,3)),plt.hist(loan[col1]),plt.xlabel(col1),plt.show()"
   ]
  },
  {
   "cell_type": "code",
   "execution_count": null,
   "id": "31dffb09",
   "metadata": {},
   "outputs": [],
   "source": []
  },
  {
   "cell_type": "code",
   "execution_count": 42,
   "id": "987588c7",
   "metadata": {},
   "outputs": [
    {
     "data": {
      "application/vnd.jupyter.widget-view+json": {
       "model_id": "b81dbacaff7d479cacc459a43c27f70b",
       "version_major": 2,
       "version_minor": 0
      },
      "text/plain": [
       "interactive(children=(Dropdown(description='col1', options=('age', 'salary', 'balance', 'day', 'duration', 'ca…"
      ]
     },
     "metadata": {},
     "output_type": "display_data"
    }
   ],
   "source": [
    "@interact_manual\n",
    "def groupby_(col1=loan.select_dtypes(\"number\").columns[1:],\n",
    "            col2=loan.select_dtypes(\"number\").columns[1:]):\n",
    "            sns.scatterplot(x=col1,y=col2,data=loan)\n",
    "            plt.title(col1 and col2)\n",
    "            plt.show()"
   ]
  },
  {
   "cell_type": "markdown",
   "id": "3f038139",
   "metadata": {},
   "source": [
    "Understand the frequency distribution of each categorical Variable/Column"
   ]
  },
  {
   "cell_type": "code",
   "execution_count": 43,
   "id": "5c9fd8de",
   "metadata": {},
   "outputs": [
    {
     "data": {
      "application/vnd.jupyter.widget-view+json": {
       "model_id": "42f2a28fdfab419a8f615a5af67dad19",
       "version_major": 2,
       "version_minor": 0
      },
      "text/plain": [
       "interactive(children=(Dropdown(description='col1', options=('marital', 'targeted', 'default', 'housing', 'loan…"
      ]
     },
     "metadata": {},
     "output_type": "display_data"
    }
   ],
   "source": [
    "@interact_manual\n",
    "def groupby_(col1=loan.select_dtypes('object').columns):\n",
    "    plt.figure(figsize=(3,3)),sns.countplot(x=loan[col1]),plt.xlabel(col1),plt.xticks(rotation=90),plt.show()"
   ]
  },
  {
   "cell_type": "code",
   "execution_count": 44,
   "id": "30c196dc",
   "metadata": {},
   "outputs": [
    {
     "data": {
      "text/html": [
       "<div>\n",
       "<style scoped>\n",
       "    .dataframe tbody tr th:only-of-type {\n",
       "        vertical-align: middle;\n",
       "    }\n",
       "\n",
       "    .dataframe tbody tr th {\n",
       "        vertical-align: top;\n",
       "    }\n",
       "\n",
       "    .dataframe thead th {\n",
       "        text-align: right;\n",
       "    }\n",
       "</style>\n",
       "<table border=\"1\" class=\"dataframe\">\n",
       "  <thead>\n",
       "    <tr style=\"text-align: right;\">\n",
       "      <th></th>\n",
       "      <th>customerid</th>\n",
       "      <th>age</th>\n",
       "      <th>salary</th>\n",
       "      <th>balance</th>\n",
       "      <th>day</th>\n",
       "      <th>duration</th>\n",
       "      <th>campaign</th>\n",
       "      <th>pdays</th>\n",
       "      <th>previous</th>\n",
       "      <th>years</th>\n",
       "    </tr>\n",
       "  </thead>\n",
       "  <tbody>\n",
       "    <tr>\n",
       "      <th>customerid</th>\n",
       "      <td>1.000000</td>\n",
       "      <td>0.014922</td>\n",
       "      <td>0.040000</td>\n",
       "      <td>0.073639</td>\n",
       "      <td>-0.061465</td>\n",
       "      <td>0.013026</td>\n",
       "      <td>-0.102884</td>\n",
       "      <td>0.437729</td>\n",
       "      <td>0.271098</td>\n",
       "      <td>NaN</td>\n",
       "    </tr>\n",
       "    <tr>\n",
       "      <th>age</th>\n",
       "      <td>0.014922</td>\n",
       "      <td>1.000000</td>\n",
       "      <td>0.026232</td>\n",
       "      <td>0.097753</td>\n",
       "      <td>-0.009185</td>\n",
       "      <td>-0.004645</td>\n",
       "      <td>0.004851</td>\n",
       "      <td>-0.023795</td>\n",
       "      <td>0.001302</td>\n",
       "      <td>NaN</td>\n",
       "    </tr>\n",
       "    <tr>\n",
       "      <th>salary</th>\n",
       "      <td>0.040000</td>\n",
       "      <td>0.026232</td>\n",
       "      <td>1.000000</td>\n",
       "      <td>0.056322</td>\n",
       "      <td>0.027688</td>\n",
       "      <td>-0.010091</td>\n",
       "      <td>0.015300</td>\n",
       "      <td>-0.015560</td>\n",
       "      <td>0.014186</td>\n",
       "      <td>NaN</td>\n",
       "    </tr>\n",
       "    <tr>\n",
       "      <th>balance</th>\n",
       "      <td>0.073639</td>\n",
       "      <td>0.097753</td>\n",
       "      <td>0.056322</td>\n",
       "      <td>1.000000</td>\n",
       "      <td>0.004503</td>\n",
       "      <td>0.021564</td>\n",
       "      <td>-0.014578</td>\n",
       "      <td>0.003435</td>\n",
       "      <td>0.016674</td>\n",
       "      <td>NaN</td>\n",
       "    </tr>\n",
       "    <tr>\n",
       "      <th>day</th>\n",
       "      <td>-0.061465</td>\n",
       "      <td>-0.009185</td>\n",
       "      <td>0.027688</td>\n",
       "      <td>0.004503</td>\n",
       "      <td>1.000000</td>\n",
       "      <td>-0.030209</td>\n",
       "      <td>0.162490</td>\n",
       "      <td>-0.093044</td>\n",
       "      <td>-0.051710</td>\n",
       "      <td>NaN</td>\n",
       "    </tr>\n",
       "    <tr>\n",
       "      <th>duration</th>\n",
       "      <td>0.013026</td>\n",
       "      <td>-0.004645</td>\n",
       "      <td>-0.010091</td>\n",
       "      <td>0.021564</td>\n",
       "      <td>-0.030209</td>\n",
       "      <td>1.000000</td>\n",
       "      <td>-0.084569</td>\n",
       "      <td>-0.001569</td>\n",
       "      <td>0.001205</td>\n",
       "      <td>NaN</td>\n",
       "    </tr>\n",
       "    <tr>\n",
       "      <th>campaign</th>\n",
       "      <td>-0.102884</td>\n",
       "      <td>0.004851</td>\n",
       "      <td>0.015300</td>\n",
       "      <td>-0.014578</td>\n",
       "      <td>0.162490</td>\n",
       "      <td>-0.084569</td>\n",
       "      <td>1.000000</td>\n",
       "      <td>-0.088628</td>\n",
       "      <td>-0.032855</td>\n",
       "      <td>NaN</td>\n",
       "    </tr>\n",
       "    <tr>\n",
       "      <th>pdays</th>\n",
       "      <td>0.437729</td>\n",
       "      <td>-0.023795</td>\n",
       "      <td>-0.015560</td>\n",
       "      <td>0.003435</td>\n",
       "      <td>-0.093044</td>\n",
       "      <td>-0.001569</td>\n",
       "      <td>-0.088628</td>\n",
       "      <td>1.000000</td>\n",
       "      <td>0.454820</td>\n",
       "      <td>NaN</td>\n",
       "    </tr>\n",
       "    <tr>\n",
       "      <th>previous</th>\n",
       "      <td>0.271098</td>\n",
       "      <td>0.001302</td>\n",
       "      <td>0.014186</td>\n",
       "      <td>0.016674</td>\n",
       "      <td>-0.051710</td>\n",
       "      <td>0.001205</td>\n",
       "      <td>-0.032855</td>\n",
       "      <td>0.454820</td>\n",
       "      <td>1.000000</td>\n",
       "      <td>NaN</td>\n",
       "    </tr>\n",
       "    <tr>\n",
       "      <th>years</th>\n",
       "      <td>NaN</td>\n",
       "      <td>NaN</td>\n",
       "      <td>NaN</td>\n",
       "      <td>NaN</td>\n",
       "      <td>NaN</td>\n",
       "      <td>NaN</td>\n",
       "      <td>NaN</td>\n",
       "      <td>NaN</td>\n",
       "      <td>NaN</td>\n",
       "      <td>NaN</td>\n",
       "    </tr>\n",
       "  </tbody>\n",
       "</table>\n",
       "</div>"
      ],
      "text/plain": [
       "            customerid       age    salary   balance       day  duration  \\\n",
       "customerid    1.000000  0.014922  0.040000  0.073639 -0.061465  0.013026   \n",
       "age           0.014922  1.000000  0.026232  0.097753 -0.009185 -0.004645   \n",
       "salary        0.040000  0.026232  1.000000  0.056322  0.027688 -0.010091   \n",
       "balance       0.073639  0.097753  0.056322  1.000000  0.004503  0.021564   \n",
       "day          -0.061465 -0.009185  0.027688  0.004503  1.000000 -0.030209   \n",
       "duration      0.013026 -0.004645 -0.010091  0.021564 -0.030209  1.000000   \n",
       "campaign     -0.102884  0.004851  0.015300 -0.014578  0.162490 -0.084569   \n",
       "pdays         0.437729 -0.023795 -0.015560  0.003435 -0.093044 -0.001569   \n",
       "previous      0.271098  0.001302  0.014186  0.016674 -0.051710  0.001205   \n",
       "years              NaN       NaN       NaN       NaN       NaN       NaN   \n",
       "\n",
       "            campaign     pdays  previous  years  \n",
       "customerid -0.102884  0.437729  0.271098    NaN  \n",
       "age         0.004851 -0.023795  0.001302    NaN  \n",
       "salary      0.015300 -0.015560  0.014186    NaN  \n",
       "balance    -0.014578  0.003435  0.016674    NaN  \n",
       "day         0.162490 -0.093044 -0.051710    NaN  \n",
       "duration   -0.084569 -0.001569  0.001205    NaN  \n",
       "campaign    1.000000 -0.088628 -0.032855    NaN  \n",
       "pdays      -0.088628  1.000000  0.454820    NaN  \n",
       "previous   -0.032855  0.454820  1.000000    NaN  \n",
       "years            NaN       NaN       NaN    NaN  "
      ]
     },
     "execution_count": 44,
     "metadata": {},
     "output_type": "execute_result"
    }
   ],
   "source": [
    "loan.corr()"
   ]
  },
  {
   "cell_type": "code",
   "execution_count": 45,
   "id": "d0db36a5",
   "metadata": {},
   "outputs": [
    {
     "data": {
      "text/html": [
       "<style type=\"text/css\">\n",
       "#T_6ca75_row0_col0, #T_6ca75_row1_col1, #T_6ca75_row2_col2, #T_6ca75_row3_col3, #T_6ca75_row4_col4, #T_6ca75_row5_col5, #T_6ca75_row6_col6, #T_6ca75_row7_col7, #T_6ca75_row8_col8 {\n",
       "  background-color: #b40426;\n",
       "  color: #f1f1f1;\n",
       "}\n",
       "#T_6ca75_row0_col1, #T_6ca75_row4_col0, #T_6ca75_row5_col3, #T_6ca75_row8_col4 {\n",
       "  background-color: #455cce;\n",
       "  color: #f1f1f1;\n",
       "}\n",
       "#T_6ca75_row0_col2, #T_6ca75_row5_col4 {\n",
       "  background-color: #4b64d5;\n",
       "  color: #f1f1f1;\n",
       "}\n",
       "#T_6ca75_row0_col3, #T_6ca75_row3_col4, #T_6ca75_row3_col7 {\n",
       "  background-color: #5572df;\n",
       "  color: #f1f1f1;\n",
       "}\n",
       "#T_6ca75_row0_col4, #T_6ca75_row6_col1, #T_6ca75_row6_col2, #T_6ca75_row8_col2, #T_6ca75_row8_col3 {\n",
       "  background-color: #4358cb;\n",
       "  color: #f1f1f1;\n",
       "}\n",
       "#T_6ca75_row0_col5 {\n",
       "  background-color: #5673e0;\n",
       "  color: #f1f1f1;\n",
       "}\n",
       "#T_6ca75_row0_col6, #T_6ca75_row4_col7, #T_6ca75_row4_col8, #T_6ca75_row6_col0, #T_6ca75_row6_col3, #T_6ca75_row6_col5, #T_6ca75_row7_col1, #T_6ca75_row7_col2, #T_6ca75_row7_col4 {\n",
       "  background-color: #3b4cc0;\n",
       "  color: #f1f1f1;\n",
       "}\n",
       "#T_6ca75_row0_col7 {\n",
       "  background-color: #d9dce1;\n",
       "  color: #000000;\n",
       "}\n",
       "#T_6ca75_row0_col8 {\n",
       "  background-color: #a1c0ff;\n",
       "  color: #000000;\n",
       "}\n",
       "#T_6ca75_row0_col9, #T_6ca75_row1_col9, #T_6ca75_row2_col9, #T_6ca75_row3_col9, #T_6ca75_row4_col9, #T_6ca75_row5_col9, #T_6ca75_row6_col9, #T_6ca75_row7_col9, #T_6ca75_row8_col9, #T_6ca75_row9_col0, #T_6ca75_row9_col1, #T_6ca75_row9_col2, #T_6ca75_row9_col3, #T_6ca75_row9_col4, #T_6ca75_row9_col5, #T_6ca75_row9_col6, #T_6ca75_row9_col7, #T_6ca75_row9_col8, #T_6ca75_row9_col9 {\n",
       "  background-color: #000000;\n",
       "  color: #f1f1f1;\n",
       "}\n",
       "#T_6ca75_row1_col0, #T_6ca75_row2_col6 {\n",
       "  background-color: #5b7ae5;\n",
       "  color: #f1f1f1;\n",
       "}\n",
       "#T_6ca75_row1_col2, #T_6ca75_row4_col2 {\n",
       "  background-color: #465ecf;\n",
       "  color: #f1f1f1;\n",
       "}\n",
       "#T_6ca75_row1_col3, #T_6ca75_row2_col4 {\n",
       "  background-color: #5d7ce6;\n",
       "  color: #f1f1f1;\n",
       "}\n",
       "#T_6ca75_row1_col4, #T_6ca75_row7_col5 {\n",
       "  background-color: #516ddb;\n",
       "  color: #f1f1f1;\n",
       "}\n",
       "#T_6ca75_row1_col5, #T_6ca75_row2_col7, #T_6ca75_row3_col2 {\n",
       "  background-color: #506bda;\n",
       "  color: #f1f1f1;\n",
       "}\n",
       "#T_6ca75_row1_col6, #T_6ca75_row3_col5 {\n",
       "  background-color: #5977e3;\n",
       "  color: #f1f1f1;\n",
       "}\n",
       "#T_6ca75_row1_col7, #T_6ca75_row2_col8, #T_6ca75_row3_col8, #T_6ca75_row8_col6 {\n",
       "  background-color: #4e68d8;\n",
       "  color: #f1f1f1;\n",
       "}\n",
       "#T_6ca75_row1_col8, #T_6ca75_row2_col1, #T_6ca75_row4_col5, #T_6ca75_row5_col8 {\n",
       "  background-color: #4961d2;\n",
       "  color: #f1f1f1;\n",
       "}\n",
       "#T_6ca75_row2_col0 {\n",
       "  background-color: #6384eb;\n",
       "  color: #f1f1f1;\n",
       "}\n",
       "#T_6ca75_row2_col3, #T_6ca75_row2_col5 {\n",
       "  background-color: #4f69d9;\n",
       "  color: #f1f1f1;\n",
       "}\n",
       "#T_6ca75_row3_col0 {\n",
       "  background-color: #6c8ff1;\n",
       "  color: #f1f1f1;\n",
       "}\n",
       "#T_6ca75_row3_col1 {\n",
       "  background-color: #5f7fe8;\n",
       "  color: #f1f1f1;\n",
       "}\n",
       "#T_6ca75_row3_col6, #T_6ca75_row8_col5 {\n",
       "  background-color: #536edd;\n",
       "  color: #f1f1f1;\n",
       "}\n",
       "#T_6ca75_row4_col1, #T_6ca75_row7_col6 {\n",
       "  background-color: #3e51c5;\n",
       "  color: #f1f1f1;\n",
       "}\n",
       "#T_6ca75_row4_col3, #T_6ca75_row5_col1, #T_6ca75_row5_col6, #T_6ca75_row6_col8, #T_6ca75_row7_col3 {\n",
       "  background-color: #3f53c6;\n",
       "  color: #f1f1f1;\n",
       "}\n",
       "#T_6ca75_row4_col6 {\n",
       "  background-color: #89acfd;\n",
       "  color: #000000;\n",
       "}\n",
       "#T_6ca75_row5_col0 {\n",
       "  background-color: #5a78e4;\n",
       "  color: #f1f1f1;\n",
       "}\n",
       "#T_6ca75_row5_col2, #T_6ca75_row6_col7 {\n",
       "  background-color: #3c4ec2;\n",
       "  color: #f1f1f1;\n",
       "}\n",
       "#T_6ca75_row5_col7 {\n",
       "  background-color: #5470de;\n",
       "  color: #f1f1f1;\n",
       "}\n",
       "#T_6ca75_row6_col4 {\n",
       "  background-color: #86a9fc;\n",
       "  color: #f1f1f1;\n",
       "}\n",
       "#T_6ca75_row7_col0 {\n",
       "  background-color: #dadce0;\n",
       "  color: #000000;\n",
       "}\n",
       "#T_6ca75_row7_col8 {\n",
       "  background-color: #d8dce2;\n",
       "  color: #000000;\n",
       "}\n",
       "#T_6ca75_row8_col0 {\n",
       "  background-color: #abc8fd;\n",
       "  color: #000000;\n",
       "}\n",
       "#T_6ca75_row8_col1 {\n",
       "  background-color: #4257c9;\n",
       "  color: #f1f1f1;\n",
       "}\n",
       "#T_6ca75_row8_col7 {\n",
       "  background-color: #dddcdc;\n",
       "  color: #000000;\n",
       "}\n",
       "</style>\n",
       "<table id=\"T_6ca75\">\n",
       "  <thead>\n",
       "    <tr>\n",
       "      <th class=\"blank level0\" >&nbsp;</th>\n",
       "      <th id=\"T_6ca75_level0_col0\" class=\"col_heading level0 col0\" >customerid</th>\n",
       "      <th id=\"T_6ca75_level0_col1\" class=\"col_heading level0 col1\" >age</th>\n",
       "      <th id=\"T_6ca75_level0_col2\" class=\"col_heading level0 col2\" >salary</th>\n",
       "      <th id=\"T_6ca75_level0_col3\" class=\"col_heading level0 col3\" >balance</th>\n",
       "      <th id=\"T_6ca75_level0_col4\" class=\"col_heading level0 col4\" >day</th>\n",
       "      <th id=\"T_6ca75_level0_col5\" class=\"col_heading level0 col5\" >duration</th>\n",
       "      <th id=\"T_6ca75_level0_col6\" class=\"col_heading level0 col6\" >campaign</th>\n",
       "      <th id=\"T_6ca75_level0_col7\" class=\"col_heading level0 col7\" >pdays</th>\n",
       "      <th id=\"T_6ca75_level0_col8\" class=\"col_heading level0 col8\" >previous</th>\n",
       "      <th id=\"T_6ca75_level0_col9\" class=\"col_heading level0 col9\" >years</th>\n",
       "    </tr>\n",
       "  </thead>\n",
       "  <tbody>\n",
       "    <tr>\n",
       "      <th id=\"T_6ca75_level0_row0\" class=\"row_heading level0 row0\" >customerid</th>\n",
       "      <td id=\"T_6ca75_row0_col0\" class=\"data row0 col0\" >1.000000</td>\n",
       "      <td id=\"T_6ca75_row0_col1\" class=\"data row0 col1\" >0.014922</td>\n",
       "      <td id=\"T_6ca75_row0_col2\" class=\"data row0 col2\" >0.040000</td>\n",
       "      <td id=\"T_6ca75_row0_col3\" class=\"data row0 col3\" >0.073639</td>\n",
       "      <td id=\"T_6ca75_row0_col4\" class=\"data row0 col4\" >-0.061465</td>\n",
       "      <td id=\"T_6ca75_row0_col5\" class=\"data row0 col5\" >0.013026</td>\n",
       "      <td id=\"T_6ca75_row0_col6\" class=\"data row0 col6\" >-0.102884</td>\n",
       "      <td id=\"T_6ca75_row0_col7\" class=\"data row0 col7\" >0.437729</td>\n",
       "      <td id=\"T_6ca75_row0_col8\" class=\"data row0 col8\" >0.271098</td>\n",
       "      <td id=\"T_6ca75_row0_col9\" class=\"data row0 col9\" >nan</td>\n",
       "    </tr>\n",
       "    <tr>\n",
       "      <th id=\"T_6ca75_level0_row1\" class=\"row_heading level0 row1\" >age</th>\n",
       "      <td id=\"T_6ca75_row1_col0\" class=\"data row1 col0\" >0.014922</td>\n",
       "      <td id=\"T_6ca75_row1_col1\" class=\"data row1 col1\" >1.000000</td>\n",
       "      <td id=\"T_6ca75_row1_col2\" class=\"data row1 col2\" >0.026232</td>\n",
       "      <td id=\"T_6ca75_row1_col3\" class=\"data row1 col3\" >0.097753</td>\n",
       "      <td id=\"T_6ca75_row1_col4\" class=\"data row1 col4\" >-0.009185</td>\n",
       "      <td id=\"T_6ca75_row1_col5\" class=\"data row1 col5\" >-0.004645</td>\n",
       "      <td id=\"T_6ca75_row1_col6\" class=\"data row1 col6\" >0.004851</td>\n",
       "      <td id=\"T_6ca75_row1_col7\" class=\"data row1 col7\" >-0.023795</td>\n",
       "      <td id=\"T_6ca75_row1_col8\" class=\"data row1 col8\" >0.001302</td>\n",
       "      <td id=\"T_6ca75_row1_col9\" class=\"data row1 col9\" >nan</td>\n",
       "    </tr>\n",
       "    <tr>\n",
       "      <th id=\"T_6ca75_level0_row2\" class=\"row_heading level0 row2\" >salary</th>\n",
       "      <td id=\"T_6ca75_row2_col0\" class=\"data row2 col0\" >0.040000</td>\n",
       "      <td id=\"T_6ca75_row2_col1\" class=\"data row2 col1\" >0.026232</td>\n",
       "      <td id=\"T_6ca75_row2_col2\" class=\"data row2 col2\" >1.000000</td>\n",
       "      <td id=\"T_6ca75_row2_col3\" class=\"data row2 col3\" >0.056322</td>\n",
       "      <td id=\"T_6ca75_row2_col4\" class=\"data row2 col4\" >0.027688</td>\n",
       "      <td id=\"T_6ca75_row2_col5\" class=\"data row2 col5\" >-0.010091</td>\n",
       "      <td id=\"T_6ca75_row2_col6\" class=\"data row2 col6\" >0.015300</td>\n",
       "      <td id=\"T_6ca75_row2_col7\" class=\"data row2 col7\" >-0.015560</td>\n",
       "      <td id=\"T_6ca75_row2_col8\" class=\"data row2 col8\" >0.014186</td>\n",
       "      <td id=\"T_6ca75_row2_col9\" class=\"data row2 col9\" >nan</td>\n",
       "    </tr>\n",
       "    <tr>\n",
       "      <th id=\"T_6ca75_level0_row3\" class=\"row_heading level0 row3\" >balance</th>\n",
       "      <td id=\"T_6ca75_row3_col0\" class=\"data row3 col0\" >0.073639</td>\n",
       "      <td id=\"T_6ca75_row3_col1\" class=\"data row3 col1\" >0.097753</td>\n",
       "      <td id=\"T_6ca75_row3_col2\" class=\"data row3 col2\" >0.056322</td>\n",
       "      <td id=\"T_6ca75_row3_col3\" class=\"data row3 col3\" >1.000000</td>\n",
       "      <td id=\"T_6ca75_row3_col4\" class=\"data row3 col4\" >0.004503</td>\n",
       "      <td id=\"T_6ca75_row3_col5\" class=\"data row3 col5\" >0.021564</td>\n",
       "      <td id=\"T_6ca75_row3_col6\" class=\"data row3 col6\" >-0.014578</td>\n",
       "      <td id=\"T_6ca75_row3_col7\" class=\"data row3 col7\" >0.003435</td>\n",
       "      <td id=\"T_6ca75_row3_col8\" class=\"data row3 col8\" >0.016674</td>\n",
       "      <td id=\"T_6ca75_row3_col9\" class=\"data row3 col9\" >nan</td>\n",
       "    </tr>\n",
       "    <tr>\n",
       "      <th id=\"T_6ca75_level0_row4\" class=\"row_heading level0 row4\" >day</th>\n",
       "      <td id=\"T_6ca75_row4_col0\" class=\"data row4 col0\" >-0.061465</td>\n",
       "      <td id=\"T_6ca75_row4_col1\" class=\"data row4 col1\" >-0.009185</td>\n",
       "      <td id=\"T_6ca75_row4_col2\" class=\"data row4 col2\" >0.027688</td>\n",
       "      <td id=\"T_6ca75_row4_col3\" class=\"data row4 col3\" >0.004503</td>\n",
       "      <td id=\"T_6ca75_row4_col4\" class=\"data row4 col4\" >1.000000</td>\n",
       "      <td id=\"T_6ca75_row4_col5\" class=\"data row4 col5\" >-0.030209</td>\n",
       "      <td id=\"T_6ca75_row4_col6\" class=\"data row4 col6\" >0.162490</td>\n",
       "      <td id=\"T_6ca75_row4_col7\" class=\"data row4 col7\" >-0.093044</td>\n",
       "      <td id=\"T_6ca75_row4_col8\" class=\"data row4 col8\" >-0.051710</td>\n",
       "      <td id=\"T_6ca75_row4_col9\" class=\"data row4 col9\" >nan</td>\n",
       "    </tr>\n",
       "    <tr>\n",
       "      <th id=\"T_6ca75_level0_row5\" class=\"row_heading level0 row5\" >duration</th>\n",
       "      <td id=\"T_6ca75_row5_col0\" class=\"data row5 col0\" >0.013026</td>\n",
       "      <td id=\"T_6ca75_row5_col1\" class=\"data row5 col1\" >-0.004645</td>\n",
       "      <td id=\"T_6ca75_row5_col2\" class=\"data row5 col2\" >-0.010091</td>\n",
       "      <td id=\"T_6ca75_row5_col3\" class=\"data row5 col3\" >0.021564</td>\n",
       "      <td id=\"T_6ca75_row5_col4\" class=\"data row5 col4\" >-0.030209</td>\n",
       "      <td id=\"T_6ca75_row5_col5\" class=\"data row5 col5\" >1.000000</td>\n",
       "      <td id=\"T_6ca75_row5_col6\" class=\"data row5 col6\" >-0.084569</td>\n",
       "      <td id=\"T_6ca75_row5_col7\" class=\"data row5 col7\" >-0.001569</td>\n",
       "      <td id=\"T_6ca75_row5_col8\" class=\"data row5 col8\" >0.001205</td>\n",
       "      <td id=\"T_6ca75_row5_col9\" class=\"data row5 col9\" >nan</td>\n",
       "    </tr>\n",
       "    <tr>\n",
       "      <th id=\"T_6ca75_level0_row6\" class=\"row_heading level0 row6\" >campaign</th>\n",
       "      <td id=\"T_6ca75_row6_col0\" class=\"data row6 col0\" >-0.102884</td>\n",
       "      <td id=\"T_6ca75_row6_col1\" class=\"data row6 col1\" >0.004851</td>\n",
       "      <td id=\"T_6ca75_row6_col2\" class=\"data row6 col2\" >0.015300</td>\n",
       "      <td id=\"T_6ca75_row6_col3\" class=\"data row6 col3\" >-0.014578</td>\n",
       "      <td id=\"T_6ca75_row6_col4\" class=\"data row6 col4\" >0.162490</td>\n",
       "      <td id=\"T_6ca75_row6_col5\" class=\"data row6 col5\" >-0.084569</td>\n",
       "      <td id=\"T_6ca75_row6_col6\" class=\"data row6 col6\" >1.000000</td>\n",
       "      <td id=\"T_6ca75_row6_col7\" class=\"data row6 col7\" >-0.088628</td>\n",
       "      <td id=\"T_6ca75_row6_col8\" class=\"data row6 col8\" >-0.032855</td>\n",
       "      <td id=\"T_6ca75_row6_col9\" class=\"data row6 col9\" >nan</td>\n",
       "    </tr>\n",
       "    <tr>\n",
       "      <th id=\"T_6ca75_level0_row7\" class=\"row_heading level0 row7\" >pdays</th>\n",
       "      <td id=\"T_6ca75_row7_col0\" class=\"data row7 col0\" >0.437729</td>\n",
       "      <td id=\"T_6ca75_row7_col1\" class=\"data row7 col1\" >-0.023795</td>\n",
       "      <td id=\"T_6ca75_row7_col2\" class=\"data row7 col2\" >-0.015560</td>\n",
       "      <td id=\"T_6ca75_row7_col3\" class=\"data row7 col3\" >0.003435</td>\n",
       "      <td id=\"T_6ca75_row7_col4\" class=\"data row7 col4\" >-0.093044</td>\n",
       "      <td id=\"T_6ca75_row7_col5\" class=\"data row7 col5\" >-0.001569</td>\n",
       "      <td id=\"T_6ca75_row7_col6\" class=\"data row7 col6\" >-0.088628</td>\n",
       "      <td id=\"T_6ca75_row7_col7\" class=\"data row7 col7\" >1.000000</td>\n",
       "      <td id=\"T_6ca75_row7_col8\" class=\"data row7 col8\" >0.454820</td>\n",
       "      <td id=\"T_6ca75_row7_col9\" class=\"data row7 col9\" >nan</td>\n",
       "    </tr>\n",
       "    <tr>\n",
       "      <th id=\"T_6ca75_level0_row8\" class=\"row_heading level0 row8\" >previous</th>\n",
       "      <td id=\"T_6ca75_row8_col0\" class=\"data row8 col0\" >0.271098</td>\n",
       "      <td id=\"T_6ca75_row8_col1\" class=\"data row8 col1\" >0.001302</td>\n",
       "      <td id=\"T_6ca75_row8_col2\" class=\"data row8 col2\" >0.014186</td>\n",
       "      <td id=\"T_6ca75_row8_col3\" class=\"data row8 col3\" >0.016674</td>\n",
       "      <td id=\"T_6ca75_row8_col4\" class=\"data row8 col4\" >-0.051710</td>\n",
       "      <td id=\"T_6ca75_row8_col5\" class=\"data row8 col5\" >0.001205</td>\n",
       "      <td id=\"T_6ca75_row8_col6\" class=\"data row8 col6\" >-0.032855</td>\n",
       "      <td id=\"T_6ca75_row8_col7\" class=\"data row8 col7\" >0.454820</td>\n",
       "      <td id=\"T_6ca75_row8_col8\" class=\"data row8 col8\" >1.000000</td>\n",
       "      <td id=\"T_6ca75_row8_col9\" class=\"data row8 col9\" >nan</td>\n",
       "    </tr>\n",
       "    <tr>\n",
       "      <th id=\"T_6ca75_level0_row9\" class=\"row_heading level0 row9\" >years</th>\n",
       "      <td id=\"T_6ca75_row9_col0\" class=\"data row9 col0\" >nan</td>\n",
       "      <td id=\"T_6ca75_row9_col1\" class=\"data row9 col1\" >nan</td>\n",
       "      <td id=\"T_6ca75_row9_col2\" class=\"data row9 col2\" >nan</td>\n",
       "      <td id=\"T_6ca75_row9_col3\" class=\"data row9 col3\" >nan</td>\n",
       "      <td id=\"T_6ca75_row9_col4\" class=\"data row9 col4\" >nan</td>\n",
       "      <td id=\"T_6ca75_row9_col5\" class=\"data row9 col5\" >nan</td>\n",
       "      <td id=\"T_6ca75_row9_col6\" class=\"data row9 col6\" >nan</td>\n",
       "      <td id=\"T_6ca75_row9_col7\" class=\"data row9 col7\" >nan</td>\n",
       "      <td id=\"T_6ca75_row9_col8\" class=\"data row9 col8\" >nan</td>\n",
       "      <td id=\"T_6ca75_row9_col9\" class=\"data row9 col9\" >nan</td>\n",
       "    </tr>\n",
       "  </tbody>\n",
       "</table>\n"
      ],
      "text/plain": [
       "<pandas.io.formats.style.Styler at 0x27cec314dc0>"
      ]
     },
     "execution_count": 45,
     "metadata": {},
     "output_type": "execute_result"
    }
   ],
   "source": [
    "# Compute the correlation matrix for a DataFrame named 'df'\n",
    "corr=loan.corr()\n",
    "# Apply a background gradient to the correlation matrix to visualize the correlation strength\n",
    "# Use the 'coolwarm' color map to represent positive correlations in shades of red and negative correlations in shades of blue\n",
    "corr.style.background_gradient(cmap=\"coolwarm\")"
   ]
  },
  {
   "cell_type": "code",
   "execution_count": 46,
   "id": "14a25f38",
   "metadata": {},
   "outputs": [
    {
     "data": {
      "text/plain": [
       "no     39924\n",
       "yes     5287\n",
       "Name: response, dtype: int64"
      ]
     },
     "execution_count": 46,
     "metadata": {},
     "output_type": "execute_result"
    }
   ],
   "source": [
    "loan[\"response\"].value_counts()"
   ]
  },
  {
   "cell_type": "code",
   "execution_count": 48,
   "id": "94a320de",
   "metadata": {},
   "outputs": [
    {
     "data": {
      "application/vnd.jupyter.widget-view+json": {
       "model_id": "688b26127bac4188bf0ec7d8719248ae",
       "version_major": 2,
       "version_minor": 0
      },
      "text/plain": [
       "interactive(children=(Dropdown(description='columns', options=('customerid', 'age', 'salary', 'balance', 'day'…"
      ]
     },
     "metadata": {},
     "output_type": "display_data"
    }
   ],
   "source": [
    "from scipy.stats import boxcox, probplot\n",
    "from ipywidgets import interact_manual\n",
    "\n",
    "def check_normality(data, columns):\n",
    "    \"\"\"\n",
    "    Check whether the specified columns in a pandas dataframe follow a normal distribution,\n",
    "    and apply Box-Cox transformation to non-normal columns to make them more normally distributed.\n",
    "    \n",
    "    \"\"\"\n",
    "    # iterate over the specified columns\n",
    "    for column in columns:\n",
    "        # extract the column of interest\n",
    "        col = loan[column]\n",
    "        \n",
    "        # plot a histogram to visualize the distribution\n",
    "        plt.hist(col, bins=20)\n",
    "        plt.title(column)\n",
    "        plt.show()\n",
    "\n",
    "        # create a probability plot (Q-Q plot) to compare to a normal distribution\n",
    "        probplot(col, dist='norm', plot=plt)\n",
    "        plt.title(column)\n",
    "        plt.show()\n",
    "\n",
    "     # try performing a Box-Cox transformation on the column\n",
    "     #he Box-Cox transformation requires the data to be positive. \n",
    "    \n",
    "    #If your column contains negative or zero values, you will need to apply a different transformation.\n",
    "        try:\n",
    "            transformed, _ = boxcox(col)\n",
    "            # plot the histogram of the transformed data\n",
    "            plt.hist(transformed, bins=20)\n",
    "            plt.title(f'Transformed {column}')\n",
    "            plt.show()\n",
    "\n",
    "            # plot a probability plot of the transformed data\n",
    "            probplot(transformed, dist='norm', plot=plt)\n",
    "            plt.title(f'Transformed {column}')\n",
    "            plt.show()\n",
    "\n",
    "        # handle the case where the data is non-positive\n",
    "        except ValueError:\n",
    "            print(f'{column} column cannot be transformed due to non-positive data')\n",
    "\n",
    "# load data into a pandas dataframe\n",
    "loan\n",
    "@interact_manual(columns=loan.select_dtypes(include=np.number).columns.tolist())\n",
    "def test_normality(columns):\n",
    "    # split the comma-separated string of column names into a list\n",
    "    columns_list = [col.strip() for col in columns.split(',')]\n",
    "\n",
    "    # check normality and perform Box-Cox transformation\n",
    "    check_normality(loan,columns_list)"
   ]
  },
  {
   "cell_type": "code",
   "execution_count": 49,
   "id": "b7a09826",
   "metadata": {},
   "outputs": [
    {
     "name": "stdout",
     "output_type": "stream",
     "text": [
      "Pearson correlation coefficient: 0.0262\n",
      "p-value: 0.0000\n"
     ]
    }
   ],
   "source": [
    "# Pearson Correlation Coefficient is a statistical measure that measures the strength of the linear relationship between two continuous variables. \n",
    "#It is denoted by the symbol r and can range from -1 to 1. A value of -1 indicates a perfect negative linear relationship, \n",
    "#a value of 0 indicates no linear relationship, and a value of 1 indicates a perfect positive linear relationship.\n",
    "\n",
    "\n",
    "#Pearson correlation coefficient between salary and age\n",
    "corr_coef, p_val = stats.pearsonr(loan['salary'], loan['age'])\n",
    "print('Pearson correlation coefficient: {:.4f}'.format(corr_coef))\n",
    "print('p-value: {:.4f}'.format(p_val))\n"
   ]
  },
  {
   "cell_type": "code",
   "execution_count": 71,
   "id": "c7415328",
   "metadata": {},
   "outputs": [
    {
     "name": "stdout",
     "output_type": "stream",
     "text": [
      "The feature are dependent (failed to rejected h0) 2.7867478608912274e-192 , 874.9149363478546\n"
     ]
    }
   ],
   "source": [
    "#Finding the that two coljumns are dependent or independent with help of chi-square testing \n",
    "from scipy.stats import chi2_contingency\n",
    "#h0=dependent\n",
    "#h1=independent\n",
    "category_column=\"housing\"\n",
    "target_column=\"response\"\n",
    "contigency_table=pd.crosstab(loan[category_column],loan[target_column])\n",
    "contigency_table\n",
    "#chi1 square test on columns \n",
    "chi2,p_value, _, _ =chi2_contingency(contigency_table)\n",
    "alpha=0.05\n",
    "if p_value>alpha:\n",
    "    print(\"the features are  not dependent AND(HO IS REJECTED)\")\n",
    "else:\n",
    "    print(\"The feature are dependent (failed to rejected h0)\",p_value,\",\",chi2)\n",
    "    "
   ]
  },
  {
   "cell_type": "code",
   "execution_count": 78,
   "id": "61881372",
   "metadata": {},
   "outputs": [
    {
     "data": {
      "text/html": [
       "<div>\n",
       "<style scoped>\n",
       "    .dataframe tbody tr th:only-of-type {\n",
       "        vertical-align: middle;\n",
       "    }\n",
       "\n",
       "    .dataframe tbody tr th {\n",
       "        vertical-align: top;\n",
       "    }\n",
       "\n",
       "    .dataframe thead th {\n",
       "        text-align: right;\n",
       "    }\n",
       "</style>\n",
       "<table border=\"1\" class=\"dataframe\">\n",
       "  <thead>\n",
       "    <tr style=\"text-align: right;\">\n",
       "      <th></th>\n",
       "      <th>balance</th>\n",
       "    </tr>\n",
       "  </thead>\n",
       "  <tbody>\n",
       "    <tr>\n",
       "      <th>count</th>\n",
       "      <td>45211.000000</td>\n",
       "    </tr>\n",
       "    <tr>\n",
       "      <th>mean</th>\n",
       "      <td>1362.272058</td>\n",
       "    </tr>\n",
       "    <tr>\n",
       "      <th>std</th>\n",
       "      <td>3044.765829</td>\n",
       "    </tr>\n",
       "    <tr>\n",
       "      <th>min</th>\n",
       "      <td>-8019.000000</td>\n",
       "    </tr>\n",
       "    <tr>\n",
       "      <th>25%</th>\n",
       "      <td>72.000000</td>\n",
       "    </tr>\n",
       "    <tr>\n",
       "      <th>50%</th>\n",
       "      <td>448.000000</td>\n",
       "    </tr>\n",
       "    <tr>\n",
       "      <th>75%</th>\n",
       "      <td>1428.000000</td>\n",
       "    </tr>\n",
       "    <tr>\n",
       "      <th>max</th>\n",
       "      <td>102127.000000</td>\n",
       "    </tr>\n",
       "  </tbody>\n",
       "</table>\n",
       "</div>"
      ],
      "text/plain": [
       "             balance\n",
       "count   45211.000000\n",
       "mean     1362.272058\n",
       "std      3044.765829\n",
       "min     -8019.000000\n",
       "25%        72.000000\n",
       "50%       448.000000\n",
       "75%      1428.000000\n",
       "max    102127.000000"
      ]
     },
     "execution_count": 78,
     "metadata": {},
     "output_type": "execute_result"
    }
   ],
   "source": [
    "loan[[\"balance\"]].describe()"
   ]
  },
  {
   "cell_type": "code",
   "execution_count": 121,
   "id": "58b11eb0",
   "metadata": {},
   "outputs": [
    {
     "name": "stdout",
     "output_type": "stream",
     "text": [
      "lower_boundary = -7772.025429820724 upper_boundary = 10496.569545190878\n",
      "       customerid   age    salary  balance   marital targeted default housing  \\\n",
      "34             35  51.0  100000.0    10635   married      yes      no     yes   \n",
      "69             70  35.0   20000.0    12223    single      yes      no     yes   \n",
      "334           335  45.0  100000.0    24598  divorced       no      no     yes   \n",
      "446           447  39.0   60000.0    45248    single       no      no     yes   \n",
      "920           921  44.0   50000.0    58544   married      yes      no     yes   \n",
      "...           ...   ...       ...      ...       ...      ...     ...     ...   \n",
      "45075       45076  28.0   60000.0    11862    single       no      no      no   \n",
      "45097       45098  61.0   60000.0    10861   married      yes      no      no   \n",
      "45098       45099  44.0   60000.0    11115    single       no      no      no   \n",
      "45118       45119  78.0   55000.0    14204   married      yes      no      no   \n",
      "45127       45128  67.0   20000.0    16353   married      yes      no      no   \n",
      "\n",
      "      loan   contact  ...  duration campaign  pdays  previous  poutcome  \\\n",
      "34      no   unknown  ...      5.60        1     -1         0   unknown   \n",
      "69     yes   unknown  ...      2.95        1     -1         0   unknown   \n",
      "334     no   unknown  ...      5.22        3     -1         0   unknown   \n",
      "446     no   unknown  ...     27.05        1     -1         0   unknown   \n",
      "920     no   unknown  ...      2.40        2     -1         0   unknown   \n",
      "...    ...       ...  ...       ...      ...    ...       ...       ...   \n",
      "45075   no  cellular  ...      9.15        2    238        13     other   \n",
      "45097   no  cellular  ...      3.75        1     91         5   success   \n",
      "45098   no  cellular  ...      3.15        1    185         4   success   \n",
      "45118   no  cellular  ...      2.50        1    183         1     other   \n",
      "45127   no  cellular  ...      3.72        2     -1         0   unknown   \n",
      "\n",
      "       response            job  education months   years  \n",
      "34           no     management   tertiary    may  2017.0  \n",
      "69           no    blue-collar  secondary    may  2017.0  \n",
      "334          no     management   tertiary    may  2017.0  \n",
      "446         yes     technician    unknown    may  2017.0  \n",
      "920          no         admin.  secondary    may  2017.0  \n",
      "...         ...            ...        ...    ...     ...  \n",
      "45075       yes     technician   tertiary    oct  2017.0  \n",
      "45097       yes  self-employed   tertiary    oct  2017.0  \n",
      "45098        no     technician    unknown    oct  2017.0  \n",
      "45118        no        retired    primary    oct  2017.0  \n",
      "45127        no    blue-collar  secondary    oct  2017.0  \n",
      "\n",
      "[744 rows x 22 columns]\n",
      "       customerid   age   salary  balance marital targeted default housing  \\\n",
      "12909       12910  26.0  20000.0    -8019  single      yes     yes      no   \n",
      "\n",
      "      loan   contact  ...  duration campaign  pdays  previous  poutcome  \\\n",
      "12909  yes  cellular  ...      4.98        3     -1         0   unknown   \n",
      "\n",
      "       response          job  education months   years  \n",
      "12909        no  blue-collar  secondary    jul  2017.0  \n",
      "\n",
      "[1 rows x 22 columns]\n"
     ]
    }
   ],
   "source": [
    "# Calculate z-scores for each data point\n",
    "z_scores = (loan[\"balance\"] - np.mean(loan[\"balance\"] )) / np.std(loan[\"balance\"] )\n",
    "\n",
    "# Set the threshold for considering outliers\n",
    "threshold = 3\n",
    "# Calculate lower and upper boundaries\n",
    "lower_boundary = loan[\"balance\"] .mean() - threshold * loan[\"balance\"] .std()\n",
    "upper_boundary = loan[\"balance\"] .mean() + threshold * loan[\"balance\"] .std()\n",
    "# Find the outliers\n",
    "outliers = loan [z_scores > threshold ]\n",
    "# Print the outliers\n",
    "print(\"lower_boundary =\",lower_boundary,\"upper_boundary =\",upper_boundary)\n",
    "print(loan.loc[loan[\"balance\"]>upper_boundary])\n",
    "print(loan.loc[loan[\"balance\"]<lower_boundary])"
   ]
  },
  {
   "cell_type": "code",
   "execution_count": 122,
   "id": "b594e390",
   "metadata": {},
   "outputs": [
    {
     "data": {
      "text/plain": [
       "<Axes: >"
      ]
     },
     "execution_count": 122,
     "metadata": {},
     "output_type": "execute_result"
    },
    {
     "data": {
      "image/png": "[encoded data removed]",
      "text/plain": [
       "<Figure size 640x480 with 1 Axes>"
      ]
     },
     "metadata": {},
     "output_type": "display_data"
    }
   ],
   "source": [
    "loan_balance=loan[[\"balance\"]]\n",
    "data=loan[\"balance\"].values\n",
    "sns.boxplot(x=data)"
   ]
  },
  {
   "cell_type": "code",
   "execution_count": 123,
   "id": "6de7ac4f",
   "metadata": {},
   "outputs": [
    {
     "data": {
      "text/plain": [
       "<Axes: >"
      ]
     },
     "execution_count": 123,
     "metadata": {},
     "output_type": "execute_result"
    },
    {
     "data": {
      "image/png": "[encoded data removed]",
      "text/plain": [
       "<Figure size 640x480 with 1 Axes>"
      ]
     },
     "metadata": {},
     "output_type": "display_data"
    }
   ],
   "source": [
    "data=loan[\"balance\"].values\n",
    "sns.stripplot(x=data)"
   ]
  },
  {
   "cell_type": "code",
   "execution_count": 126,
   "id": "9060cdb7",
   "metadata": {},
   "outputs": [],
   "source": [
    "upper_limit=loan[\"balance\"].mean()+3*loan[\"balance\"].std()\n",
    "lower_limit=loan[\"balance\"].mean()-3*loan[\"balance\"].std()\n",
    "df_new=loan[(loan[\"balance\"]>lower_limit) &(loan[\"balance\"]<upper_limit)]"
   ]
  },
  {
   "cell_type": "code",
   "execution_count": 130,
   "id": "a0fcd07b",
   "metadata": {},
   "outputs": [
    {
     "data": {
      "text/plain": [
       "<Axes: xlabel='balance'>"
      ]
     },
     "execution_count": 130,
     "metadata": {},
     "output_type": "execute_result"
    },
    {
     "data": {
      "image/png": "[encoded data removed]",
      "text/plain": [
       "<Figure size 800x500 with 2 Axes>"
      ]
     },
     "metadata": {},
     "output_type": "display_data"
    }
   ],
   "source": [
    "plt.figure(figsize=(8,5))\n",
    "plt.title(\"after trimming\")\n",
    "plt.subplot(1,2,1)\n",
    "sns.boxplot(x=df_new[\"balance\"])\n",
    "plt.subplot(1,2,2)\n",
    "sns.stripplot(x=df_new[\"balance\"])\n"
   ]
  },
  {
   "cell_type": "code",
   "execution_count": null,
   "id": "2ec22643",
   "metadata": {},
   "outputs": [],
   "source": []
  }
 ],
 "metadata": {
  "kernelspec": {
   "display_name": "Python 3 (ipykernel)",
   "language": "python",
   "name": "python3"
  },
  "language_info": {
   "codemirror_mode": {
    "name": "ipython",
    "version": 3
   },
   "file_extension": ".py",
   "mimetype": "text/x-python",
   "name": "python",
   "nbconvert_exporter": "python",
   "pygments_lexer": "ipython3",
   "version": "3.10.9"
  }
 },
 "nbformat": 4,
 "nbformat_minor": 5
}
